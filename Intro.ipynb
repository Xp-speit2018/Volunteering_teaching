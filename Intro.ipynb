{
 "cells": [
  {
   "cell_type": "markdown",
   "metadata": {},
   "source": [
    "<center>\n",
    "<img src='Logo.jpg' height=30% width=30%>\n",
    "</center>"
   ]
  },
  {
   "cell_type": "markdown",
   "metadata": {},
   "source": [
    "# **引言**"
   ]
  },
  {
   "cell_type": "markdown",
   "metadata": {},
   "source": [
    "## **-为什么要学习编程？**"
   ]
  },
  {
   "cell_type": "markdown",
   "metadata": {},
   "source": [
    "### **首先我们看一则新闻：**  \n",
    ">随着暑期结束，中小学生陆续入校升级。根据教育部2018年中学新课标方案，机器人、编程、大数据处理已正式划入新课标，也就是说去年9 月后入学的高一新生，要开始学习机器人和编程了。"
   ]
  },
  {
   "cell_type": "markdown",
   "metadata": {},
   "source": [
    "<center>\n",
    "<img src='news.jpg' height='90%' width='90%'>\n",
    "</center>"
   ]
  },
  {
   "cell_type": "markdown",
   "metadata": {},
   "source": [
    ">2018年版“新课标”相比于 2003 年”大幅度提升了在编程、计算思维、算法方面的思维要求，以及人工智能、开源硬件、网络空间安全等知识面要求。\n",
    "\n",
    ">2018 年 9 月后入学的高一新生将启用依据“新课改”编写的新教材中，其中Python科学库Numpy、Matplotlib 等实用型更强的新技术、新内容将加入新教材。"
   ]
  },
  {
   "cell_type": "markdown",
   "metadata": {},
   "source": [
    "### **对于编程普遍存在的误区：** \n",
    "> - 没有想过要当程序员，为什么要学习编程？\n",
    "- 很高深，觉得自己学不会…\n",
    "- 大城市的孩子从小学习，我们现在学为时已晚…"
   ]
  },
  {
   "cell_type": "markdown",
   "metadata": {},
   "source": [
    "### **不用迷惑和担心：**"
   ]
  },
  {
   "cell_type": "markdown",
   "metadata": {},
   "source": [
    "> - 革新传统解决问题的方式，提高生活质量\n",
    "- 数学和英语确实有帮助作用，但不是必要条件\n",
    "- 何时都不晚，因为知识体系的庞大分支"
   ]
  },
  {
   "cell_type": "markdown",
   "metadata": {},
   "source": [
    "## **-为什么要学习Python？**"
   ]
  },
  {
   "cell_type": "markdown",
   "metadata": {},
   "source": [
    "### **现流行的多种语言简单对比：**"
   ]
  },
  {
   "cell_type": "markdown",
   "metadata": {},
   "source": [
    "语言|类型|优点|缺点\n",
    "--|--|--|--  \n",
    "Python     |面向对象|易于学习、第三方库、高层语言|速度、移动端  \n",
    "Java       |面向对象|需求旺盛、复用灵活、跨平台|占用大量内存、学习曲线、启动时间长\n",
    "C          |面向过程|可移植性、体型小巧、操作系统|无运行检查机制、无法面向对象、学习曲线\n",
    "C++        |面向对象|速度、灵活调整空间、大型程序|艰难的学习曲线、功能庞大复杂  \n",
    "PHP        |脚本语言|快捷简洁、性能优越、跨平台|单线程、只支持web开发、维护困难\n",
    "JavaScript |脚本语言|速度出色、简单、与其他语言协作|安全性、可预测性差\n",
    "C#         |面向对象|全面集成.Net库|不具备跨平台能力\n",
    "Objective-C|面向对象|苹果开发库、速度出色|不够直观、思路差别大、适用范围有限"
   ]
  },
  {
   "cell_type": "markdown",
   "metadata": {},
   "source": [
    " > Python是最易上手但功能依旧十分强大的一门高级编程语言。它的语法优雅简洁，并且得益于各种第三方库，它的功能强大而全面。使用Python语言编写程序时，你并不需要太关心代码的底层机制，这使得你能够将注意力和精力集中到实现功能本身。"
   ]
  },
  {
   "cell_type": "markdown",
   "metadata": {},
   "source": [
    "### **体会一下Python的简洁（实现输出一行Hello World）：**"
   ]
  },
  {
   "cell_type": "markdown",
   "metadata": {},
   "source": [
    "**C++代码块：**\n",
    "```C++\n",
    "#include <iostream>\n",
    "int main()\n",
    "{\n",
    "    using namespace std;\n",
    "    cout << \"Hello world!\\n\";\n",
    "    return 0;\n",
    "}\n",
    "```\n",
    "> include, iostream, int main, std, return 0...这些都是啥玩意？"
   ]
  },
  {
   "cell_type": "markdown",
   "metadata": {},
   "source": [
    "**Python代码块：**  \n",
    "```python\n",
    "print('Hello world!')\n",
    "```\n",
    "> 真好，一眼秒懂！"
   ]
  },
  {
   "cell_type": "markdown",
   "metadata": {},
   "source": [
    "### **各种强大的第三方库：**"
   ]
  },
  {
   "cell_type": "markdown",
   "metadata": {},
   "source": [
    "<center>\n",
    "<img src='FlyPython.jpg'>\n",
    "</center>"
   ]
  },
  {
   "cell_type": "markdown",
   "metadata": {},
   "source": [
    "> &emsp;*Python是全能语言，社区庞大，有太多的库和框架。你只需要找到合适的工具来实现想法，省去了造轮子的精力。*  \n",
    "> &emsp;*Coder可以写尽可能少的代码来实现同等的功能。“人生苦短，我用 Python”是至理名言。*  \n",
    "> &emsp;*如果实现一个中等业务复杂度的项目，在相同的时间要求内，用 Java实现要4-5个码农的话，用 Python实现也许只需要 1个。这就是 Python最大的优势了。*   \n",
    "\n",
    "&emsp;&emsp;&emsp;&emsp;&emsp;&emsp;&emsp;&emsp;&emsp;&emsp;&emsp;&emsp;&emsp;&emsp;&emsp;&emsp;&emsp;&emsp;&emsp;&emsp;&emsp;&emsp;&emsp;&emsp;&emsp;&emsp;&emsp;&emsp;&emsp;&emsp;&emsp;&emsp;&emsp;&emsp;&emsp;--CSDN"
   ]
  },
  {
   "cell_type": "markdown",
   "metadata": {},
   "source": [
    "## **-如何入门？如何进阶？**"
   ]
  },
  {
   "cell_type": "markdown",
   "metadata": {},
   "source": [
    "### **入门**"
   ]
  },
  {
   "cell_type": "markdown",
   "metadata": {},
   "source": [
    "> 其实不仅限于Python，任何一门编程语言的入门，都是从掌握基础的`语法`开始。对于学习第一门语言的初学者来说，还应该了解基本的`编程思想`，这是所有编程语言的共同之处。"
   ]
  },
  {
   "cell_type": "markdown",
   "metadata": {},
   "source": [
    "> Python的基础语法完全可以通过阅读官方文档学习。但也不妨买一本基础语法书当作手册随时翻阅！"
   ]
  },
  {
   "cell_type": "markdown",
   "metadata": {},
   "source": [
    "#### **了解你的Python！**"
   ]
  },
  {
   "cell_type": "markdown",
   "metadata": {},
   "source": [
    "> 我们教学使用的是基于Python的最新版本：`Python 3.7`(3.8正在到来的路上)的一个发行版`Anaconda Python`。\n",
    "\n",
    "> Python版本指的是`解释器`版本，可以理解为Python的“大脑”。它规定了Python能理解哪些语法（哪些语法是`合法`的）。目前在使用的Python版本有Python 2.x 和Python 3.x，注意这两个版本的语法在某些地方有较大差别。官方消息称将在2020年停止对 Python2 的支持。  \n",
    "\n",
    "> 由于Python的解释器是`开源`的（即源代码对任何人都是开放的），所以理论上任何人都可以对解释器进行改写来应对特殊的需求，只要水平够高。官方的解释器使用C语言编写的，所以又称为CPython，在不引起歧义的情况下简称为Python。除此之外，还有使用Java实现的Jython等不同版本，这些版本统称为`发行版`。发行版通常在保留Python语法的基础上针对某方面特定功能实现了优化。"
   ]
  },
  {
   "cell_type": "markdown",
   "metadata": {},
   "source": [
    "#### **常见Python发行版：**  \n",
    "\n",
    "发行版|需求与说明\n",
    ":-:|:-:\n",
    "CPython|原汁原味的Python，官方版本\n",
    "Anaconda Python|高效组合的科学计算\n",
    "IPython|交互增强\n",
    "PyPy|利用即时编译针对速度优化\n",
    "Jython|能够与Java互相操作\n",
    "IronPython|能够与.Net互相操作"
   ]
  },
  {
   "cell_type": "markdown",
   "metadata": {},
   "source": [
    "#### **做个优雅的码农：文本编辑器与环境**"
   ]
  },
  {
   "cell_type": "markdown",
   "metadata": {},
   "source": [
    "##### **交互式文本编辑器：JupyterNotebook, JupyterLab...**"
   ]
  },
  {
   "cell_type": "markdown",
   "metadata": {},
   "source": [
    "> 使用交互式文本编辑器更像是在与Python对话。Jupyter支持插入`Markdown`语法和大部分`LaTeX`公式语法，使得它成为一个优秀的教案和笔记编写工具。同样也适合做科学计算和学习，因为它会忠实记录你的每一步输入输出。使用这种方法生成的文件名为*.ipynb。"
   ]
  },
  {
   "cell_type": "markdown",
   "metadata": {},
   "source": [
    "##### **脚本式文本编辑器/集成开发环境：VS Code, Atom, PyCharm, Spyder...**"
   ]
  },
  {
   "cell_type": "markdown",
   "metadata": {},
   "source": [
    "> 将具有完整功能的代码写在一个文件里，名为*.py。通常用于实现项目。"
   ]
  },
  {
   "cell_type": "markdown",
   "metadata": {},
   "source": [
    "<center>\n",
    "<img src='VS.png' height=100% width=100%>\n",
    "</center>"
   ]
  },
  {
   "cell_type": "markdown",
   "metadata": {},
   "source": [
    "> Anaconda捆绑了JupyterNotebook, JupyterLab, Spider以及可以一键安装的VS Code！"
   ]
  },
  {
   "cell_type": "markdown",
   "metadata": {},
   "source": [
    "### **本次课程安排**"
   ]
  },
  {
   "cell_type": "markdown",
   "metadata": {},
   "source": [
    "课程|时间|内容\n",
    ":-:|:-:|:-:\n",
    "一|000|运算、基本数据类型、条件语句\n",
    "二|000|数据类型的方法、循环\n",
    "三|000|函数\n",
    "四|000|复习/小项目"
   ]
  },
  {
   "cell_type": "markdown",
   "metadata": {},
   "source": [
    "### **为了走得更远**"
   ]
  },
  {
   "cell_type": "markdown",
   "metadata": {},
   "source": [
    "> 当你掌握了基础语法后，便可以往自己感兴趣的方向发展了。在此之前，可以先学习一下Google发布的[Python代码规范](https://google.github.io/styleguide/pyguide.html)，提升代码的可读性，以便与他人交流、为维护更大型的项目做准备！"
   ]
  },
  {
   "cell_type": "markdown",
   "metadata": {},
   "source": [
    "> 对自己提升最快的方式其实是不断做自己感兴趣的项目！分析项目的需求，接着寻找并学习相关的库。"
   ]
  },
  {
   "cell_type": "markdown",
   "metadata": {},
   "source": [
    "> 常用学习资源：\n",
    "- [Python官方手册](https://docs.python.org/3/)（包括各种库的官方手册）\n",
    "- [菜鸟教程](https://www.runoob.com/python/python-tutorial.html)（中文教程）\n",
    "- [CSDN](https://www.csdn.net/)（中文技术社区）\n",
    "- [简书](https://www.jianshu.com/)（中文技术社区）\n",
    "- [Github](https://github.com/explore)（第三方库的发布、他人项目）\n",
    "- ..."
   ]
  },
  {
   "cell_type": "markdown",
   "metadata": {},
   "source": [
    "<center>\n",
    "<img src='Python.jpg' height=90% width=90%>\n",
    "</center>"
   ]
  }
 ],
 "metadata": {
  "kernelspec": {
   "display_name": "Python 3",
   "language": "python",
   "name": "python3"
  },
  "language_info": {
   "codemirror_mode": {
    "name": "ipython",
    "version": 3
   },
   "file_extension": ".py",
   "mimetype": "text/x-python",
   "name": "python",
   "nbconvert_exporter": "python",
   "pygments_lexer": "ipython3",
   "version": "3.7.0"
  }
 },
 "nbformat": 4,
 "nbformat_minor": 2
}
