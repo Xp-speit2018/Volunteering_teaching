{
 "cells": [
  {
   "cell_type": "markdown",
   "metadata": {},
   "source": [
    "<center>\n",
    "<img src='Logo.jpg' height=30% width=30%>\n",
    "</center>"
   ]
  },
  {
   "cell_type": "markdown",
   "metadata": {},
   "source": [
    "# **项目实操：视频转字符画**"
   ]
  },
  {
   "cell_type": "markdown",
   "metadata": {},
   "source": [
    "## **心生向往**"
   ]
  },
  {
   "cell_type": "markdown",
   "metadata": {},
   "source": [
    "看到有沙雕网友将图片和视频做成了（动态）字符画，看上去非常地酷炫！于是我们便想自己写写代码实现这个功能。"
   ]
  },
  {
   "cell_type": "markdown",
   "metadata": {},
   "source": [
    "通过这个（微型）项目我们可以初步体验：  \n",
    "> 如何查找学习资源  \n",
    "> 如何阅读帮助手册  \n",
    "> 如何规划程序设计  \n",
    "> 如何使用脚本式文本编辑器  "
   ]
  },
  {
   "cell_type": "markdown",
   "metadata": {},
   "source": [
    "## **大卸八块**"
   ]
  },
  {
   "cell_type": "markdown",
   "metadata": {},
   "source": [
    "首先我们想一想，如何将图片转化为字符画？"
   ]
  },
  {
   "cell_type": "markdown",
   "metadata": {},
   "source": [
    "> 图片由一颗颗像素组成。而在字符画中，一个字符其实就对应了一个小小的像素区块，远远望去，这个区块有多“白”，取决于这个区块有多少像素是“亮”的！"
   ]
  },
  {
   "cell_type": "markdown",
   "metadata": {},
   "source": [
    "> 于是，我们便可将图片裁剪成一个一个小块，评估这个小块的“亮度”，然后选择对应的字符来代替它。"
   ]
  },
  {
   "cell_type": "markdown",
   "metadata": {},
   "source": [
    "接着对这个功能进行模块化的分析。"
   ]
  },
  {
   "cell_type": "markdown",
   "metadata": {},
   "source": [
    "> 需求输入：一个视频文件  \n",
    "> 需求输出：动态的字符画，用命令行即可"
   ]
  },
  {
   "cell_type": "markdown",
   "metadata": {},
   "source": [
    "当中的步骤大致可分为：  \n",
    "> 1. 读取文件  \n",
    "> 2. 将视频分帧成画  \n",
    "> 3. 将画变为灰白色  \n",
    "> 4. 裁剪成块，评估每块亮度  \n",
    "> 5. 用字符代替  \n",
    "> 6. 按帧输出  "
   ]
  },
  {
   "cell_type": "markdown",
   "metadata": {},
   "source": [
    "输出时有两个方案：  \n",
    "> - 一边计算一边输出。占用内存少，然而如果计算量大或者电脑速度跟不上，将会影响成果的流畅度。      \n",
    "> - 将所有数据计算完统一输出。占用内存大，然而可以保证流畅。  \n",
    "\n",
    "我们采用第二种方法。"
   ]
  },
  {
   "cell_type": "markdown",
   "metadata": {},
   "source": [
    "然后我们就可以一步一步的实现它了。"
   ]
  },
  {
   "cell_type": "markdown",
   "metadata": {},
   "source": [
    "---"
   ]
  },
  {
   "cell_type": "markdown",
   "metadata": {},
   "source": [
    "## **目无全牛**"
   ]
  },
  {
   "cell_type": "markdown",
   "metadata": {},
   "source": [
    "我们心无旁骛地专注于一项功能，逐个击破。"
   ]
  },
  {
   "cell_type": "markdown",
   "metadata": {},
   "source": [
    "> Python标准库中用于读取文件的函数为`open()`。但由于Python读取文件为一个**对象**，而这个对象的方法由对其操作的库定义，所以一般的库都会包含重写过的读取方法。所以我们可以先跳过第一步。"
   ]
  },
  {
   "cell_type": "markdown",
   "metadata": {},
   "source": [
    "**分帧**"
   ]
  },
  {
   "cell_type": "markdown",
   "metadata": {},
   "source": [
    "百度一下视频分帧的方法，就可以知道用的是一个叫[opencv](https://opencv-python-tutroals.readthedocs.io/en/latest/py_tutorials/py_tutorials.html)的第三方库。"
   ]
  },
  {
   "cell_type": "markdown",
   "metadata": {},
   "source": [
    "> 首先打开命令行，输入`pip install opencv-python`安装这个库。"
   ]
  },
  {
   "cell_type": "markdown",
   "metadata": {},
   "source": [
    "安装完成之后就可以导入这个库了，这里有点特殊用`cv2`名称导入这个库："
   ]
  },
  {
   "cell_type": "code",
   "execution_count": null,
   "metadata": {},
   "outputs": [],
   "source": [
    "import cv2"
   ]
  },
  {
   "cell_type": "markdown",
   "metadata": {},
   "source": [
    "查阅教程**Gui Features on OpenCV > Getting Started with Videos > Playing Video from file**，使用`VideoCapture()`方法加载文件："
   ]
  },
  {
   "cell_type": "code",
   "execution_count": null,
   "metadata": {},
   "outputs": [],
   "source": [
    "video = cv2.VideoCapture(\"/Users/vector/Documents/test.mkv\")"
   ]
  },
  {
   "cell_type": "markdown",
   "metadata": {},
   "source": [
    "这里的文件路径需要自己修改一下，我使用的macOS中文件路径是这么写的。"
   ]
  },
  {
   "cell_type": "markdown",
   "metadata": {},
   "source": [
    "加载之后就可以用read()方法读取了。我们先用`help()`函数查看一下read是怎么使用的："
   ]
  },
  {
   "cell_type": "code",
   "execution_count": null,
   "metadata": {},
   "outputs": [],
   "source": [
    "help(video.read)"
   ]
  },
  {
   "cell_type": "markdown",
   "metadata": {},
   "source": [
    "可以看到read()方法读取了一帧图像，返回两个数据："
   ]
  },
  {
   "cell_type": "code",
   "execution_count": null,
   "metadata": {},
   "outputs": [],
   "source": [
    "retval ,image = video.read()"
   ]
  },
  {
   "cell_type": "code",
   "execution_count": null,
   "metadata": {},
   "outputs": [],
   "source": [
    "retval"
   ]
  },
  {
   "cell_type": "markdown",
   "metadata": {},
   "source": [
    "这是用于判断是否有下一帧的布尔值。"
   ]
  },
  {
   "cell_type": "code",
   "execution_count": null,
   "metadata": {},
   "outputs": [],
   "source": [
    "image"
   ]
  },
  {
   "cell_type": "markdown",
   "metadata": {},
   "source": [
    "这里就是一帧图像的数据了。可以看到这里有三层列表的嵌套。最内层的一层列表，如[6, 10, 5]，存储了一个像素点的RBG值。以像素点为单位的二维数组即一幅图像。。"
   ]
  },
  {
   "cell_type": "markdown",
   "metadata": {},
   "source": [
    "> 至此我们明白，运行一次read()即读取一帧图像。视频读取和分帧的功能就这样实现了。"
   ]
  },
  {
   "cell_type": "markdown",
   "metadata": {},
   "source": [
    "**转换为灰度图**"
   ]
  },
  {
   "cell_type": "markdown",
   "metadata": {},
   "source": [
    "尽管将RGB图像转化为灰度图有算法可以查询，但是我们还是想偷个懒。看到opencv手册中**Image Processing in OpenCV > Changing Colorspaces**，我们有现成的函数可以使用："
   ]
  },
  {
   "cell_type": "code",
   "execution_count": null,
   "metadata": {},
   "outputs": [],
   "source": [
    "gray = cv2.cvtColor(image, cv2.COLOR_BGR2GRAY)"
   ]
  },
  {
   "cell_type": "code",
   "execution_count": null,
   "metadata": {},
   "outputs": [],
   "source": [
    "gray"
   ]
  },
  {
   "cell_type": "markdown",
   "metadata": {},
   "source": [
    "现在每个值代表一个像素点的`灰度`。"
   ]
  },
  {
   "cell_type": "markdown",
   "metadata": {},
   "source": [
    "**裁剪成块**"
   ]
  },
  {
   "cell_type": "markdown",
   "metadata": {},
   "source": [
    "由于一个字符比一个像素点大很多，所以我们通过决定像素的个数来确定块数。"
   ]
  },
  {
   "cell_type": "code",
   "execution_count": null,
   "metadata": {},
   "outputs": [],
   "source": [
    "show_heigth = 30\n",
    "show_width  = 80"
   ]
  },
  {
   "cell_type": "markdown",
   "metadata": {},
   "source": [
    "继续使用别人的轮子：手册中**Image Processing in OpenCV > Geometric Transformations of Images** 中为我们提供了现成的分块方法`cv2.resize()`。"
   ]
  },
  {
   "cell_type": "code",
   "execution_count": null,
   "metadata": {},
   "outputs": [],
   "source": [
    "help(cv2.resize)"
   ]
  },
  {
   "cell_type": "code",
   "execution_count": null,
   "metadata": {},
   "outputs": [],
   "source": [
    "gray_2 = cv2.resize(gray,(show_width, show_heigth))\n",
    "gray_2"
   ]
  },
  {
   "cell_type": "markdown",
   "metadata": {},
   "source": [
    "每块的亮度就用该块中所有像素灰度的平均值表示。"
   ]
  },
  {
   "cell_type": "markdown",
   "metadata": {},
   "source": [
    "**替换对应的字符**"
   ]
  },
  {
   "cell_type": "markdown",
   "metadata": {},
   "source": [
    "已经有人为我们整理好了一串字符由黑到白的排序，这里我们直接引用："
   ]
  },
  {
   "cell_type": "code",
   "execution_count": null,
   "metadata": {},
   "outputs": [],
   "source": [
    "ascii_char = \"$@B%8&WM#*oahkbdpqwmZO0QLCJUYXzcvunxrjft/\\|()1{}[]?-_+~<>i!lI;:,\\\"^`'. \""
   ]
  },
  {
   "cell_type": "code",
   "execution_count": null,
   "metadata": {},
   "outputs": [],
   "source": [
    "char_len = len(ascii_char) #获取这串字符的长度"
   ]
  },
  {
   "cell_type": "code",
   "execution_count": null,
   "metadata": {},
   "outputs": [],
   "source": [
    "char_len"
   ]
  },
  {
   "cell_type": "markdown",
   "metadata": {},
   "source": [
    "灰度的一共有256个值（0-255的整数值）。我们将这256个值大约等分分为70档，每一档对应一个字符。比如说一个字符的灰度为120，就是这么对应："
   ]
  },
  {
   "cell_type": "code",
   "execution_count": null,
   "metadata": {},
   "outputs": [],
   "source": [
    "pixel = 120\n",
    "ascii_char[int(pixel / 256 * char_len)] #int 用于取整"
   ]
  },
  {
   "cell_type": "markdown",
   "metadata": {},
   "source": [
    "用for循环对裁剪好的所有块全都执行操作："
   ]
  },
  {
   "cell_type": "code",
   "execution_count": null,
   "metadata": {},
   "outputs": [],
   "source": [
    "text ='' \n",
    "for pixel_line in gray_2:\n",
    "    for pixel in pixel_line:\n",
    "        text += ascii_char[int(pixel / 256 * char_len)]\n",
    "    text += '\\n' #换行"
   ]
  },
  {
   "cell_type": "code",
   "execution_count": null,
   "metadata": {},
   "outputs": [],
   "source": [
    "print(text)"
   ]
  },
  {
   "cell_type": "markdown",
   "metadata": {},
   "source": [
    "如此我们便完成了对一帧图像的处理。接下来只要用循环重复上面的过程，并将所有得到的结果存储到一个列表里，到时候挨个输出就行了。"
   ]
  },
  {
   "cell_type": "markdown",
   "metadata": {},
   "source": [
    "**按帧输出**"
   ]
  },
  {
   "cell_type": "markdown",
   "metadata": {},
   "source": [
    "依次输出时，由于所有的数据已经运算完毕，所以输出的过程会非常快，体现在视频会放的特别快。为了让视频保持原速，我们需要让Python在每输出完一帧图像后等待一段时间。这时候我们就需要用标准库`time`中的`sleep()`函数。可以先体会一下这个函数的作用："
   ]
  },
  {
   "cell_type": "code",
   "execution_count": null,
   "metadata": {},
   "outputs": [],
   "source": [
    "import time"
   ]
  },
  {
   "cell_type": "code",
   "execution_count": null,
   "metadata": {},
   "outputs": [],
   "source": [
    "help(time.sleep)"
   ]
  },
  {
   "cell_type": "code",
   "execution_count": null,
   "metadata": {},
   "outputs": [],
   "source": [
    "time.sleep(2)\n",
    "print('delayed 2 seconds')"
   ]
  },
  {
   "cell_type": "markdown",
   "metadata": {},
   "source": [
    "## **合而为一**"
   ]
  },
  {
   "cell_type": "markdown",
   "metadata": {},
   "source": [
    "我们把上面的思路稍微整合一下，套上一个while循环，就可以获得一个具有完整功能、可以独立出来的代码块。"
   ]
  },
  {
   "cell_type": "markdown",
   "metadata": {},
   "source": [
    "```python\n",
    "import time\n",
    "\n",
    "import cv2\n",
    "\n",
    "show_heigth =   30            \n",
    "show_width = 80\n",
    "\n",
    "ascii_char = \"$@B%8&WM#*oahkbdpqwmZO0QLCJUYXzcvunxrjft/\\|()1{}[]?-_+~<>i!lI;:,\\\"^`'. \"\n",
    "#生成一个ascii字符列表\n",
    "\n",
    "char_len = len(ascii_char)#获取字符个数\n",
    "\n",
    "vc = cv2.VideoCapture(\"/Users/vector/Documents/test2.mp4\")          #加载视频\n",
    "\n",
    "if vc.isOpened():   #判断是否正常加载，如果正常加载就读取第一帧\n",
    "    rval , frame = vc.read()\n",
    "else:\n",
    "    rval = False\n",
    "    \n",
    "frame_count = 0 #已经运算完的帧数\n",
    "\n",
    "outputList = [] #初始化输出列表\n",
    "\n",
    "while rval:   #如果下一帧存在，就进入循环  \n",
    "    gray = cv2.cvtColor(frame, cv2.COLOR_BGR2GRAY)  #转化成灰度图\n",
    "    gray = cv2.resize(gray,(show_width,show_heigth))#切割灰度图\n",
    "    \n",
    "    text = \"\"\n",
    "    for pixel_line in gray:\n",
    "        for pixel in pixel_line:                    \n",
    "            text += ascii_char[int(pixel / 256 * char_len )]\n",
    "        text += \"\\n\"         #完成一帧的运算\n",
    "\n",
    "    outputList.append(text) #将结果存储的列表中\n",
    "    \n",
    "    frame_count = frame_count + 1   #已经运算完的帧数+1  \n",
    "    \n",
    "    if frame_count % 100 == 0:\n",
    "        print(\"已处理\" + str(frame_count) + \"帧\") #每运算完100帧汇报一次，进度检测\n",
    "        \n",
    "    rval, frame = vc.read() #读取下一帧\n",
    "    \n",
    "print(\"处理完毕\")\n",
    "\n",
    "interval = 1.0 / 30 #确定输出间隔\n",
    "\n",
    "for frame in outputList:       \n",
    "    print(frame) #输出一帧\n",
    "    print()\n",
    "    print()\n",
    "    \n",
    "    time.sleep(interval) #等待一个间隔\n",
    "```"
   ]
  },
  {
   "cell_type": "markdown",
   "metadata": {},
   "source": [
    "虽然这段代码在交互式文本编辑器中是可执行的，但是效果并不太理想。我们想用脚本式文本编辑器来实现这段代码。"
   ]
  },
  {
   "cell_type": "markdown",
   "metadata": {},
   "source": [
    "<center>\n",
    "<img src='Python.jpg' height=90% width=90%>\n",
    "</center>"
   ]
  }
 ],
 "metadata": {
  "kernelspec": {
   "display_name": "Python 3",
   "language": "python",
   "name": "python3"
  },
  "language_info": {
   "codemirror_mode": {
    "name": "ipython",
    "version": 3
   },
   "file_extension": ".py",
   "mimetype": "text/x-python",
   "name": "python",
   "nbconvert_exporter": "python",
   "pygments_lexer": "ipython3",
   "version": "3.7.3"
  }
 },
 "nbformat": 4,
 "nbformat_minor": 4
}
