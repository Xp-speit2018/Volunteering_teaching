{
 "cells": [
  {
   "cell_type": "markdown",
   "metadata": {},
   "source": [
    "<center>\n",
    "<img src='Logo.jpg' height=30% width=30%>\n",
    "</center>"
   ]
  },
  {
   "cell_type": "markdown",
   "metadata": {},
   "source": [
    "# **抽象**"
   ]
  },
  {
   "cell_type": "markdown",
   "metadata": {},
   "source": [
    "当我们费尽心思教会了Python一项技能，我们当然不希望再把繁琐的代码输入第二遍。在这章中，我们将学习如何将一些语句写成`函数`，使得Python成为“一教就会”的天才。这样就提高了代码的`复用性`。 "
   ]
  },
  {
   "cell_type": "markdown",
   "metadata": {},
   "source": [
    "## **细节不好么？**"
   ]
  },
  {
   "cell_type": "markdown",
   "metadata": {},
   "source": [
    "在程序员的教义中，懒惰是一种美德。但函数的优势不仅仅限于节省你的精力；更加重要的是，他还可以使你的代码隐去过分细节的东西，而只保留了实现功能的`接口`。这个过程叫做`抽象化`。抽象使得你的代码更加接近自然语言，无论是在读或写代码的过程中都更加符合人的认知。"
   ]
  },
  {
   "cell_type": "markdown",
   "metadata": {},
   "source": [
    "举个例子。当你想穿过一条小路回到宿舍（假设你的宿舍在二楼），你肯定不会这么说：  \n",
    "> 以与道路相交78.2°的角度走11步穿过小路，右转体32.93°，向前走233步到宿舍楼，跨12级台阶到1.5楼，转体180°，跨12级台阶到2楼，右转90°，向前走6步，掏出钥匙，右转90°，将钥匙插到底，顺时针转三圈。  \n",
    "\n",
    "计算机当然乐意接受这样非常具体的指令，但是对人来说这只会让你茫然。人更倾向于：\n",
    "> 穿过小路，走到宿舍楼，上二楼，开右手边的第一道门。\n",
    "\n",
    "至于怎么穿过小路，怎么上楼，怎么开门，你已经在生活中学过了，所以细节的东西无需再提。\n",
    "\n",
    "可以对上面的语句进一步抽象（假设你已经非常熟悉你的宿舍位置）：\n",
    "> 回宿舍。"
   ]
  },
  {
   "cell_type": "markdown",
   "metadata": {},
   "source": [
    "抽象也让维护代码变得更加容易。假设你的学校给宿舍升级了电子锁，你只需要将“用钥匙开锁”这个认知换成“刷卡开锁”就行了。如果你的代码事无巨细，那么每一处开门都要重写，那该多麻烦啊！"
   ]
  },
  {
   "cell_type": "markdown",
   "metadata": {},
   "source": [
    "## **创建你的函数!**"
   ]
  },
  {
   "cell_type": "markdown",
   "metadata": {},
   "source": [
    "**从打招呼开始**"
   ]
  },
  {
   "cell_type": "markdown",
   "metadata": {},
   "source": [
    "一个函数接受零个或多个参数，返回零个（None）或多个的值。  \n",
    "```python\n",
    "def <func>(<para>):\n",
    "    <block>\n",
    "    return <result>\n",
    "```"
   ]
  },
  {
   "cell_type": "markdown",
   "metadata": {},
   "source": [
    "> return语句昭示了函数的终止。这意味着return下面的语句其实都是无用的。"
   ]
  },
  {
   "cell_type": "markdown",
   "metadata": {},
   "source": [
    "想想你是怎么学会打招呼的？先学会方式，然后长辈告诉你面前这个人的名字，然后你就把学会的打招呼方式运用出来！"
   ]
  },
  {
   "cell_type": "code",
   "execution_count": null,
   "metadata": {},
   "outputs": [],
   "source": [
    "def hello(name):\n",
    "    print('Hello, {}!'.format(name))"
   ]
  },
  {
   "cell_type": "code",
   "execution_count": null,
   "metadata": {},
   "outputs": [],
   "source": [
    "hello('贵州')"
   ]
  },
  {
   "cell_type": "markdown",
   "metadata": {},
   "source": [
    "这个函数不包含return语句。实际上它返回了None："
   ]
  },
  {
   "cell_type": "code",
   "execution_count": null,
   "metadata": {},
   "outputs": [],
   "source": [
    "print(hello('贵州'))"
   ]
  },
  {
   "cell_type": "markdown",
   "metadata": {},
   "source": [
    "### **I.参数魔法**"
   ]
  },
  {
   "cell_type": "markdown",
   "metadata": {},
   "source": [
    "**多个参数**"
   ]
  },
  {
   "cell_type": "markdown",
   "metadata": {},
   "source": [
    "如我我想同时和两个人打招呼，并且改变打招呼的方式："
   ]
  },
  {
   "cell_type": "code",
   "execution_count": null,
   "metadata": {},
   "outputs": [],
   "source": [
    "def hello_2(greeting,name_1,name_2):\n",
    "    print('{}, {}!'.format(greeting,name_1))\n",
    "    print('{}, {}!'.format(greeting,name_2))"
   ]
  },
  {
   "cell_type": "markdown",
   "metadata": {},
   "source": [
    "这也没什么问题，运作正常。"
   ]
  },
  {
   "cell_type": "code",
   "execution_count": null,
   "metadata": {},
   "outputs": [],
   "source": [
    "hello_2('你好','贵州','贵阳')"
   ]
  },
  {
   "cell_type": "markdown",
   "metadata": {},
   "source": [
    "这样传递的参数叫做`positional parameters`，因为他们的位置决定了他们的起的作用。"
   ]
  },
  {
   "cell_type": "markdown",
   "metadata": {},
   "source": [
    "可是如我事先不知道我该和几个人打招呼呢？有一个办法是要求传入一个包含所有人名字的列表，然后用for循环和他们一一打招呼。但是我想实现和print函数类似的功能，就得这么做："
   ]
  },
  {
   "cell_type": "code",
   "execution_count": null,
   "metadata": {},
   "outputs": [],
   "source": [
    "def hellos(greeting,*names):\n",
    "    for name in names:\n",
    "        print('{}, {}!'.format(greeting,name))"
   ]
  },
  {
   "cell_type": "markdown",
   "metadata": {},
   "source": [
    "加上的星号表示将所有的（剩余）参数打包成一个元组。"
   ]
  },
  {
   "cell_type": "code",
   "execution_count": null,
   "metadata": {},
   "outputs": [],
   "source": [
    "hellos('Bonjour','a','b','c','d','e')"
   ]
  },
  {
   "cell_type": "markdown",
   "metadata": {},
   "source": [
    "**关键字参数和缺省值**"
   ]
  },
  {
   "cell_type": "markdown",
   "metadata": {},
   "source": [
    "那我们使用print函数时，$end=''$这种参数又是什么？为什么有时可以不输有时要输？  \n",
    "\n",
    "这种传递参数的方法叫做`关键字参数(Keyword Parameter)`方法，它可以被设置一个`缺省值(Default)`（默认值）。传递参数时，类似于字典，需要提供“键=值”的形式。如果不提供键，就当作位置参数传参；如果不提供值，就使用缺省值。"
   ]
  },
  {
   "cell_type": "code",
   "execution_count": null,
   "metadata": {},
   "outputs": [],
   "source": [
    "hello_2(name_2='贵阳',greeting='你好',name_1='贵州')"
   ]
  },
  {
   "cell_type": "code",
   "execution_count": null,
   "metadata": {},
   "outputs": [],
   "source": [
    "def hello_3(*names,greeting='Hello'): #定义时设置default\n",
    "    for name in names:\n",
    "        print('{}, {}!'.format(greeting,name))"
   ]
  },
  {
   "cell_type": "code",
   "execution_count": null,
   "metadata": {},
   "outputs": [],
   "source": [
    "hello_3('xp')"
   ]
  },
  {
   "cell_type": "markdown",
   "metadata": {},
   "source": [
    "星号不会收集关键字参数。"
   ]
  },
  {
   "cell_type": "code",
   "execution_count": null,
   "metadata": {},
   "outputs": [],
   "source": [
    "hello_3('a','b','c',greeting='滚开')"
   ]
  },
  {
   "cell_type": "markdown",
   "metadata": {},
   "source": [
    "下面这么写将不会起作用，为什么？"
   ]
  },
  {
   "cell_type": "code",
   "execution_count": null,
   "metadata": {},
   "outputs": [],
   "source": [
    "def hello_4(greeting='Hello',*names):\n",
    "    for name in names:\n",
    "        print('{}, {}!'.format(greeting,name))\n",
    "hello_4('xp')"
   ]
  },
  {
   "cell_type": "code",
   "execution_count": null,
   "metadata": {},
   "outputs": [],
   "source": [
    "def repeater(x,*y,z):\n",
    "    print(x,y,z)\n",
    "repeater(1,2,3,4,5,6,7)    "
   ]
  },
  {
   "cell_type": "markdown",
   "metadata": {},
   "source": [
    "**批量收集关键字参数**"
   ]
  },
  {
   "cell_type": "code",
   "execution_count": null,
   "metadata": {},
   "outputs": [],
   "source": [
    "def repeater_2(**params):\n",
    "    print(params)\n",
    "    for key, value in params.items():\n",
    "        print(key,':',value)"
   ]
  },
  {
   "cell_type": "code",
   "execution_count": null,
   "metadata": {},
   "outputs": [],
   "source": [
    "repeater_2(x=1,y=2,z=3)"
   ]
  },
  {
   "cell_type": "markdown",
   "metadata": {},
   "source": [
    "可以看到，批量收集关键字参数会将内容转换为一个字典。我们也能从中体会到关键字参数和键值对的紧密联系。"
   ]
  },
  {
   "cell_type": "markdown",
   "metadata": {},
   "source": [
    "**字典传参**"
   ]
  },
  {
   "cell_type": "markdown",
   "metadata": {},
   "source": [
    "使用两个星号对字典解包，就可给函数传递关键字参数。"
   ]
  },
  {
   "cell_type": "code",
   "execution_count": null,
   "metadata": {},
   "outputs": [],
   "source": [
    "paras = {'x':1,'y':2,'z':3}\n",
    "repeater_2(**paras)"
   ]
  },
  {
   "cell_type": "markdown",
   "metadata": {},
   "source": [
    "在关键字参数较多时使用字典传参应当成为习惯，这样对字典操作即可修改函数的参数。"
   ]
  },
  {
   "cell_type": "markdown",
   "metadata": {},
   "source": [
    "字典用于格式化字符也是相当的方便："
   ]
  },
  {
   "cell_type": "code",
   "execution_count": null,
   "metadata": {},
   "outputs": [],
   "source": [
    "'{x} plus {y} equals to {z}'.format_map(paras)"
   ]
  },
  {
   "cell_type": "markdown",
   "metadata": {},
   "source": [
    "### **II.与世界交流**"
   ]
  },
  {
   "cell_type": "markdown",
   "metadata": {},
   "source": [
    "**添加说明**"
   ]
  },
  {
   "cell_type": "markdown",
   "metadata": {},
   "source": [
    "为了让他人（以及数天之后的你）看到你写的函数不犯晕，或者至少提高他人理解的效率，最好给编写的函数添加说明文字。\n",
    "\n",
    "写在函数开头的一串字符（通常说明函数的功能、参数、返回值等）会被存储为`docstring`。可以用help函数查看。"
   ]
  },
  {
   "cell_type": "code",
   "execution_count": null,
   "metadata": {},
   "outputs": [],
   "source": [
    "def hello(name):\n",
    "    '''\n",
    "    Greeting somebody by name.\n",
    "    name: str, his name\n",
    "    '''\n",
    "    print('Hello, {}!'.format(name))"
   ]
  },
  {
   "cell_type": "code",
   "execution_count": null,
   "metadata": {},
   "outputs": [],
   "source": [
    "help(hello)"
   ]
  },
  {
   "cell_type": "code",
   "execution_count": null,
   "metadata": {},
   "outputs": [],
   "source": [
    "help(print)"
   ]
  },
  {
   "cell_type": "markdown",
   "metadata": {},
   "source": [
    "**小练习：生成斐波那契数列**"
   ]
  },
  {
   "cell_type": "markdown",
   "metadata": {},
   "source": [
    "斐波那契数列从第三项起，每一项都是前两项的和。\n",
    "$$a_{n+2} = a_{n+1} + a_{n}, \\forall n \\in N_+$$  \n",
    "下面是列表加for循环实现的版本："
   ]
  },
  {
   "cell_type": "code",
   "execution_count": null,
   "metadata": {},
   "outputs": [],
   "source": [
    "fibs = [0,1]\n",
    "for i in range(8):\n",
    "    fibs.append(fibs[-2]+fibs[-1])"
   ]
  },
  {
   "cell_type": "code",
   "execution_count": null,
   "metadata": {},
   "outputs": [],
   "source": [
    "fibs"
   ]
  },
  {
   "cell_type": "markdown",
   "metadata": {},
   "source": [
    "写出一个函数，接受一个整数 $n \\geq 3$，返回包含n项的斐波那契数列。"
   ]
  },
  {
   "cell_type": "code",
   "execution_count": null,
   "metadata": {},
   "outputs": [],
   "source": [
    "def fibs(n):\n",
    "    #It's your turn!"
   ]
  },
  {
   "cell_type": "markdown",
   "metadata": {},
   "source": [
    "**小练习：连加器**"
   ]
  },
  {
   "cell_type": "markdown",
   "metadata": {},
   "source": [
    "写出一个函数，接受多个实数，返回他们的和。"
   ]
  },
  {
   "cell_type": "code",
   "execution_count": null,
   "metadata": {},
   "outputs": [],
   "source": [
    "def add(______):#It's your turn!\n"
   ]
  },
  {
   "cell_type": "markdown",
   "metadata": {},
   "source": [
    "**传参终极练习**"
   ]
  },
  {
   "cell_type": "code",
   "execution_count": null,
   "metadata": {},
   "outputs": [],
   "source": [
    "def story(**kws):\n",
    "    return 'Once upon a time, there was a {job} called {name}.'.format_map(kws)\n",
    "\n",
    "def power(x,y,*others):\n",
    "    if others:\n",
    "        print('Received other parameters',end=':')\n",
    "        for other in others:\n",
    "            print(other,end=' ')\n",
    "    else:\n",
    "        return x**y\n",
    "\n",
    "def range_2(start, stop=None, step=1):\n",
    "    'Imitate range() for step > 0 '\n",
    "    if not stop:\n",
    "        start, stop = range, start\n",
    "    \n",
    "    result = []\n",
    "    \n",
    "    i = start\n",
    "    while i < stop:\n",
    "        result.append(i)\n",
    "        i += step\n",
    "    return result"
   ]
  },
  {
   "cell_type": "markdown",
   "metadata": {},
   "source": [
    "看懂这三个函数的参数设定方式，并尝试使用他们！"
   ]
  },
  {
   "cell_type": "code",
   "execution_count": null,
   "metadata": {},
   "outputs": [],
   "source": []
  },
  {
   "cell_type": "markdown",
   "metadata": {},
   "source": [
    "### **III.作用域**"
   ]
  },
  {
   "cell_type": "markdown",
   "metadata": {},
   "source": [
    "变量(variables)，或者标识符(identifiers)，他们究竟是什么？你可以把他当作值(values)的名字，或是标签(labels)。这样一来，经过赋值(assignment)这一步，这个标签就与值（广义上的，也可以是函数等）关联起来了。这几乎就是个键值对：当你对Python提到这个标签，你说起的就是与之关联的值。  \n",
    "\n",
    "如果你能这么想，就离事实不远了："
   ]
  },
  {
   "cell_type": "code",
   "execution_count": null,
   "metadata": {},
   "outputs": [],
   "source": [
    "vars()"
   ]
  },
  {
   "cell_type": "markdown",
   "metadata": {},
   "source": [
    "仔细观察这一长串东西。他其实就是个字典，称作`命名空间(namespace)`或`作用域(scope)`，包含了内置的和你自己定义的标识符与与关联值构成的键值对。"
   ]
  },
  {
   "cell_type": "markdown",
   "metadata": {},
   "source": [
    "> 交互式文本编辑器的所有单元格共用一个命名空间。"
   ]
  },
  {
   "cell_type": "code",
   "execution_count": null,
   "metadata": {},
   "outputs": [],
   "source": [
    "scope = vars()\n",
    "scope['hello']"
   ]
  },
  {
   "cell_type": "markdown",
   "metadata": {},
   "source": [
    "这就是刚开始写过的打招呼函数！"
   ]
  },
  {
   "cell_type": "markdown",
   "metadata": {},
   "source": [
    "如果你想通过函数来改变一个变量，你的愿景可能很美好，但实现起来不是那么容易："
   ]
  },
  {
   "cell_type": "code",
   "execution_count": 1,
   "metadata": {},
   "outputs": [
    {
     "name": "stdout",
     "output_type": "stream",
     "text": [
      "1\n"
     ]
    }
   ],
   "source": [
    "x = 1\n",
    "\n",
    "def change_x():\n",
    "    x = 42\n",
    "\n",
    "change_x()\n",
    "print(x)"
   ]
  },
  {
   "cell_type": "markdown",
   "metadata": {},
   "source": [
    "这是由于，每创建一个函数都会生成一个这个函数独立的命名空间，称为`局部作用域(local scope)`，包含的变量叫做`局部变量(local variables)`，以区别于主函数的`全局作用域(global scope)`和`全局变量(global variables)`。  \n",
    "\n",
    "x = 42 这一步操作实际上是在自定义函数的小字典里进行的，并没有影响到全局作用域中的 x。"
   ]
  },
  {
   "cell_type": "markdown",
   "metadata": {},
   "source": [
    "这样的设定带来一个好处：我们不需要担心函数使用的局部变量和全局变量命名有冲突，从而编写函数时只需专注于函数本身。"
   ]
  },
  {
   "cell_type": "markdown",
   "metadata": {},
   "source": [
    "如果我只想读取全局变量，问题不是很大，只要局部变量没有与他重名："
   ]
  },
  {
   "cell_type": "code",
   "execution_count": null,
   "metadata": {},
   "outputs": [],
   "source": [
    "x = 1\n",
    "def read_x():\n",
    "    print(x)\n",
    "read_x()"
   ]
  },
  {
   "cell_type": "markdown",
   "metadata": {},
   "source": [
    "重名时局部变量优先级高于全局变量："
   ]
  },
  {
   "cell_type": "code",
   "execution_count": null,
   "metadata": {},
   "outputs": [],
   "source": [
    "x = 1\n",
    "def read_x():\n",
    "    x = 42\n",
    "    print(x)\n",
    "read_x()"
   ]
  },
  {
   "cell_type": "markdown",
   "metadata": {},
   "source": [
    "这时，全局变量就被局部变量遮蔽了(shadowed)。如果你还想访问，可以通过globals()函数。这个函数与vars()类似，只不过vars()返回的是当前作用域，globals()返回的是全局作用域。"
   ]
  },
  {
   "cell_type": "code",
   "execution_count": null,
   "metadata": {},
   "outputs": [],
   "source": [
    "x = 1\n",
    "def read_global_x():\n",
    "    x = 42\n",
    "    print(globals()['x'])\n",
    "read_global_x()"
   ]
  },
  {
   "cell_type": "markdown",
   "metadata": {},
   "source": [
    "如果你想把局部变量和全局变量关联起来从而修改全局变量，也是一行代码就能解决的事情："
   ]
  },
  {
   "cell_type": "code",
   "execution_count": null,
   "metadata": {},
   "outputs": [],
   "source": [
    "x = 1\n",
    "def change_x():\n",
    "    global x #声明x与全局变量关联\n",
    "    x = 42\n",
    "change_x()\n",
    "print(x)"
   ]
  },
  {
   "cell_type": "markdown",
   "metadata": {},
   "source": [
    "但是！但是！但是！做法关联全局变量通常**极其危险**，应当尽量避免！这将带来几个危害：  \n",
    "> - **增大理解难度**。因为功能追求的是模块化，但是通过关联全局变量，功能与主体的界限变得模糊，产生了藕断丝连的联系。这样容易导致功能的僭越，使下层自作多情地管理起上层的事情！  \n",
    "- **增大迭代难度**。全局变量就像是一条快捷通道，若是多数函数与之关联，也许在程序构建的初期会带来短暂的便捷，但是一旦有更新迭代的需求，容易牵一发而动全身，雷区遍布，举步维艰！  \n",
    "- **增大维护难度**。由于全局变量模糊了分层的界限，导致哪怕修改一个小功能，都要掘地三尺地修改每一个与之关联的函数，还要关心这些函数调用此变量的顺序，费时费力而又事倍功半！\n",
    "\n",
    "如果让变量流连忘返于多个函数之间，这将大大降低程序的稳定性和安全性，产生诸多不稳定的bug。这时程序就拥有一个薛定谔的作用域，你不去监视他，将很难预测这个变量究竟遭遇了什么！\n",
    "\n",
    "<center>\n",
    "    <img src='iterate.jpg' height='40%' width='40%'>\n",
    "<\\center>"
   ]
  },
  {
   "cell_type": "markdown",
   "metadata": {},
   "source": [
    "### **III.学习永无止境**"
   ]
  },
  {
   "cell_type": "markdown",
   "metadata": {},
   "source": [
    "实际上Python是一门面向对象的语言，而函数通常是为面向过程服务的。这意味着你并不需要过多依赖函数，而是更加依赖Python的对象(Object)！如果你感兴趣，在以后更加深入的学习中，学习如何自定义类、编写类方法，你会感受到面向对象编程的强大！"
   ]
  },
  {
   "cell_type": "markdown",
   "metadata": {},
   "source": [
    "**小练习：阶乘**"
   ]
  },
  {
   "cell_type": "code",
   "execution_count": null,
   "metadata": {},
   "outputs": [],
   "source": []
  },
  {
   "cell_type": "markdown",
   "metadata": {},
   "source": [
    "试试能否实现算法课上的迭代版本？"
   ]
  },
  {
   "cell_type": "code",
   "execution_count": null,
   "metadata": {},
   "outputs": [],
   "source": []
  },
  {
   "cell_type": "markdown",
   "metadata": {},
   "source": [
    "<center>\n",
    "<img src='Python.jpg' height=90% width=90%>\n",
    "</center>"
   ]
  }
 ],
 "metadata": {
  "kernelspec": {
   "display_name": "Python 3",
   "language": "python",
   "name": "python3"
  },
  "language_info": {
   "codemirror_mode": {
    "name": "ipython",
    "version": 3
   },
   "file_extension": ".py",
   "mimetype": "text/x-python",
   "name": "python",
   "nbconvert_exporter": "python",
   "pygments_lexer": "ipython3",
   "version": "3.7.3"
  }
 },
 "nbformat": 4,
 "nbformat_minor": 4
}
