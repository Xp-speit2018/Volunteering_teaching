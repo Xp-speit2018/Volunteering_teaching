{
 "cells": [
  {
   "cell_type": "markdown",
   "metadata": {},
   "source": [
    "<center>\n",
    "<img src='Logo.jpg' height=30% width=30%>\n",
    "</center>"
   ]
  },
  {
   "cell_type": "markdown",
   "metadata": {},
   "source": [
    "# **站在巨人的肩膀上**"
   ]
  },
  {
   "cell_type": "markdown",
   "metadata": {},
   "source": [
    "前言提到，Python的一大优势在于丰富的**可扩展性**。在第一节课做超越运算的时，通过导入numpy模块，我们也初步体验了`Python库`(Python library)的强大。这些库提供了实现不同功能的`应用程序接口`(API, application programming interface)，使得学习者能够快速上手而无需了解实现方法和内部机制。"
   ]
  },
  {
   "cell_type": "markdown",
   "metadata": {},
   "source": [
    "## **I.标准库**"
   ]
  },
  {
   "cell_type": "markdown",
   "metadata": {},
   "source": [
    "> [Python标准库官方手册](https://docs.python.org/zh-cn/3.7/library/index.html)：供随时查阅。"
   ]
  },
  {
   "cell_type": "markdown",
   "metadata": {},
   "source": [
    "Python核心只提供了数字、字符串、列表、元组、字典、文件等常见类型和函数（这是为了尽量提高运行速度）。除此之外，还可导入一些无需下载的`标准库(Standard Library)`来扩展功能。下面列出一些常用/重要的函数。"
   ]
  },
  {
   "cell_type": "markdown",
   "metadata": {},
   "source": [
    "> 由于某些库需求的前置数学&计算机知识我们目前还不具备，并且难以在短时间内很好地掌握，我们可能只是点到为止或是只是提及。但这并不妨碍他成为一个重要的`标准库`。"
   ]
  },
  {
   "cell_type": "markdown",
   "metadata": {},
   "source": [
    "库名称|描述\n",
    ":-:|:-:\n",
    "pprint|美化大数据输出\n",
    "cmath|复数运算\n",
    "random|生成伪随机数\n",
    "os|系统接口\n",
    "sys|Python运行时的系统参数\n",
    "time|时间的访问和转换"
   ]
  },
  {
   "cell_type": "markdown",
   "metadata": {},
   "source": [
    "**pprint**"
   ]
  },
  {
   "cell_type": "code",
   "execution_count": 6,
   "metadata": {},
   "outputs": [],
   "source": [
    "from pprint import pprint"
   ]
  },
  {
   "cell_type": "code",
   "execution_count": 7,
   "metadata": {},
   "outputs": [],
   "source": [
    "a = [[i]*j for i in range(10) for j in range(i+1) if j != 0]"
   ]
  },
  {
   "cell_type": "code",
   "execution_count": 8,
   "metadata": {},
   "outputs": [
    {
     "name": "stdout",
     "output_type": "stream",
     "text": [
      "[[1], [2], [2, 2], [3], [3, 3], [3, 3, 3], [4], [4, 4], [4, 4, 4], [4, 4, 4, 4], [5], [5, 5], [5, 5, 5], [5, 5, 5, 5], [5, 5, 5, 5, 5], [6], [6, 6], [6, 6, 6], [6, 6, 6, 6], [6, 6, 6, 6, 6], [6, 6, 6, 6, 6, 6], [7], [7, 7], [7, 7, 7], [7, 7, 7, 7], [7, 7, 7, 7, 7], [7, 7, 7, 7, 7, 7], [7, 7, 7, 7, 7, 7, 7], [8], [8, 8], [8, 8, 8], [8, 8, 8, 8], [8, 8, 8, 8, 8], [8, 8, 8, 8, 8, 8], [8, 8, 8, 8, 8, 8, 8], [8, 8, 8, 8, 8, 8, 8, 8], [9], [9, 9], [9, 9, 9], [9, 9, 9, 9], [9, 9, 9, 9, 9], [9, 9, 9, 9, 9, 9], [9, 9, 9, 9, 9, 9, 9], [9, 9, 9, 9, 9, 9, 9, 9], [9, 9, 9, 9, 9, 9, 9, 9, 9]]\n"
     ]
    }
   ],
   "source": [
    "print(a)"
   ]
  },
  {
   "cell_type": "code",
   "execution_count": 9,
   "metadata": {},
   "outputs": [
    {
     "name": "stdout",
     "output_type": "stream",
     "text": [
      "[[1],\n",
      " [2],\n",
      " [2, 2],\n",
      " [3],\n",
      " [3, 3],\n",
      " [3, 3, 3],\n",
      " [4],\n",
      " [4, 4],\n",
      " [4, 4, 4],\n",
      " [4, 4, 4, 4],\n",
      " [5],\n",
      " [5, 5],\n",
      " [5, 5, 5],\n",
      " [5, 5, 5, 5],\n",
      " [5, 5, 5, 5, 5],\n",
      " [6],\n",
      " [6, 6],\n",
      " [6, 6, 6],\n",
      " [6, 6, 6, 6],\n",
      " [6, 6, 6, 6, 6],\n",
      " [6, 6, 6, 6, 6, 6],\n",
      " [7],\n",
      " [7, 7],\n",
      " [7, 7, 7],\n",
      " [7, 7, 7, 7],\n",
      " [7, 7, 7, 7, 7],\n",
      " [7, 7, 7, 7, 7, 7],\n",
      " [7, 7, 7, 7, 7, 7, 7],\n",
      " [8],\n",
      " [8, 8],\n",
      " [8, 8, 8],\n",
      " [8, 8, 8, 8],\n",
      " [8, 8, 8, 8, 8],\n",
      " [8, 8, 8, 8, 8, 8],\n",
      " [8, 8, 8, 8, 8, 8, 8],\n",
      " [8, 8, 8, 8, 8, 8, 8, 8],\n",
      " [9],\n",
      " [9, 9],\n",
      " [9, 9, 9],\n",
      " [9, 9, 9, 9],\n",
      " [9, 9, 9, 9, 9],\n",
      " [9, 9, 9, 9, 9, 9],\n",
      " [9, 9, 9, 9, 9, 9, 9],\n",
      " [9, 9, 9, 9, 9, 9, 9, 9],\n",
      " [9, 9, 9, 9, 9, 9, 9, 9, 9]]\n"
     ]
    }
   ],
   "source": [
    "pprint(a)"
   ]
  },
  {
   "cell_type": "markdown",
   "metadata": {},
   "source": [
    "**cmath**"
   ]
  },
  {
   "cell_type": "code",
   "execution_count": null,
   "metadata": {},
   "outputs": [],
   "source": [
    "import cmath"
   ]
  },
  {
   "cell_type": "code",
   "execution_count": null,
   "metadata": {},
   "outputs": [],
   "source": [
    "(1+1j) * (2+2j)"
   ]
  },
  {
   "cell_type": "code",
   "execution_count": null,
   "metadata": {},
   "outputs": [],
   "source": [
    "(3+2j) / (4+7j)"
   ]
  },
  {
   "cell_type": "markdown",
   "metadata": {},
   "source": [
    "**random**"
   ]
  },
  {
   "cell_type": "code",
   "execution_count": null,
   "metadata": {},
   "outputs": [],
   "source": [
    "import random"
   ]
  },
  {
   "cell_type": "code",
   "execution_count": null,
   "metadata": {},
   "outputs": [],
   "source": [
    "random.random() #随机返回一个0-1之间的浮点数"
   ]
  },
  {
   "cell_type": "markdown",
   "metadata": {},
   "source": [
    "**os**"
   ]
  },
  {
   "cell_type": "code",
   "execution_count": null,
   "metadata": {},
   "outputs": [],
   "source": [
    "import os\n",
    "os.getcwd() #获取文件当前路径"
   ]
  },
  {
   "cell_type": "code",
   "execution_count": null,
   "metadata": {},
   "outputs": [],
   "source": [
    "os.path.getsize(os.getcwd()) #获取当前文件大小"
   ]
  },
  {
   "cell_type": "code",
   "execution_count": null,
   "metadata": {},
   "outputs": [],
   "source": [
    "os.path.dirname(os.getcwd()) #获取路径目录"
   ]
  },
  {
   "cell_type": "code",
   "execution_count": null,
   "metadata": {},
   "outputs": [],
   "source": [
    "os.listdir(os.getcwd()) #获取当前目录下所有文件名"
   ]
  },
  {
   "cell_type": "markdown",
   "metadata": {},
   "source": [
    "**sys**"
   ]
  },
  {
   "cell_type": "code",
   "execution_count": 1,
   "metadata": {},
   "outputs": [],
   "source": [
    "import sys"
   ]
  },
  {
   "cell_type": "code",
   "execution_count": null,
   "metadata": {},
   "outputs": [],
   "source": [
    "sys.platform #操作系统的名称"
   ]
  },
  {
   "cell_type": "code",
   "execution_count": 3,
   "metadata": {},
   "outputs": [
    {
     "data": {
      "text/plain": [
       "'3.7.0 (default, Jun 28 2018, 08:04:48) [MSC v.1912 64 bit (AMD64)]'"
      ]
     },
     "execution_count": 3,
     "metadata": {},
     "output_type": "execute_result"
    }
   ],
   "source": [
    "sys.version #Python的版本信息"
   ]
  },
  {
   "cell_type": "code",
   "execution_count": null,
   "metadata": {},
   "outputs": [],
   "source": [
    "sys.argv[0] #代码文件*.py的路径，用脚本式编辑器即文件本身"
   ]
  },
  {
   "cell_type": "code",
   "execution_count": 5,
   "metadata": {},
   "outputs": [
    {
     "data": {
      "text/plain": [
       "['',\n",
       " 'C:\\\\Users\\\\hantj\\\\Documents\\\\Python Scripts\\\\VT',\n",
       " 'E:\\\\Files\\\\Python Project\\\\Warframe_Relic_exe_backup\\\\scripts',\n",
       " 'C:\\\\Users\\\\hantj\\\\Documents\\\\Python Scripts\\\\VT\\\\ E:\\\\Files\\\\Python Project\\\\Warframe_Relic_exe_backup',\n",
       " 'C:\\\\Users\\\\hantj\\\\Anaconda3\\\\python37.zip',\n",
       " 'C:\\\\Users\\\\hantj\\\\Anaconda3\\\\DLLs',\n",
       " 'C:\\\\Users\\\\hantj\\\\Anaconda3\\\\lib',\n",
       " 'C:\\\\Users\\\\hantj\\\\Anaconda3',\n",
       " 'C:\\\\Users\\\\hantj\\\\Anaconda3\\\\lib\\\\site-packages',\n",
       " 'C:\\\\Users\\\\hantj\\\\Anaconda3\\\\lib\\\\site-packages\\\\win32',\n",
       " 'C:\\\\Users\\\\hantj\\\\Anaconda3\\\\lib\\\\site-packages\\\\win32\\\\lib',\n",
       " 'C:\\\\Users\\\\hantj\\\\Anaconda3\\\\lib\\\\site-packages\\\\Pythonwin',\n",
       " 'C:\\\\Users\\\\hantj\\\\Anaconda3\\\\lib\\\\site-packages\\\\IPython\\\\extensions',\n",
       " 'C:\\\\Users\\\\hantj\\\\.ipython']"
      ]
     },
     "execution_count": 5,
     "metadata": {},
     "output_type": "execute_result"
    }
   ],
   "source": [
    "sys.path #返回模块的搜索路径，初始化时使用PYTHONPATH变量的值并空出0索引，可自定义赋值"
   ]
  },
  {
   "cell_type": "markdown",
   "metadata": {},
   "source": [
    "**time**"
   ]
  },
  {
   "cell_type": "markdown",
   "metadata": {},
   "source": [
    "可能暂时学习有困难，但确实重要且实用的标准库：  \n",
    "\n",
    "库名称|描述\n",
    ":-:|:-:\n",
    "re|正则表达式\n",
    "logging|日志记录\n",
    "threading|多线程处理\n",
    "pickle|对象序列化与反序列化\n",
    "socket|底层网络接口\n",
    "tkinter|图形用户界面\n",
    "email|电子邮件处理\n",
    "json|JSON编码解码器\n",
    "base64|Base16, Base32, Base64, Base85数据编码"
   ]
  },
  {
   "cell_type": "code",
   "execution_count": null,
   "metadata": {},
   "outputs": [],
   "source": []
  },
  {
   "cell_type": "markdown",
   "metadata": {},
   "source": [
    "> 这些库看上去很多而且很吓人。但是我们第一节课就提到过，编程语言的进阶是通过不断地做想做的项目来实现的。所以我们完全不必每个都学透再去实践；相反，当我们需要它的时候，我们才去关心它。标准库的功能应用非常广泛，经过几次实践的学习，相信大家都能掌握得八九不离十了。\n",
    "\n",
    "> 不要忘记至理名言：**人生苦短，我用Python。**"
   ]
  },
  {
   "cell_type": "markdown",
   "metadata": {},
   "source": [
    "## **II.第三方库**"
   ]
  },
  {
   "cell_type": "markdown",
   "metadata": {},
   "source": [
    "标准库使得Python内涵丰富，而第三方库使得Python无所不能。"
   ]
  },
  {
   "cell_type": "markdown",
   "metadata": {},
   "source": [
    "第三方库是指由个人/团队/社区开发、发布、维护的模块，一般地不包含在Python标准发行版中。由于参与者众多，所以可谓“只有想不到，没有做不到。”"
   ]
  },
  {
   "cell_type": "markdown",
   "metadata": {},
   "source": [
    "库名称|描述\n",
    ":-:|:-:\n",
    "[TenserFlow](https://tensorflow.google.cn/)|Google发布的深度学习框架\n",
    "[PyTorch](https://pytorch-cn.readthedocs.io/zh/latest/)|Facebook发布的深度学习框架\n",
    "[Scipy](https://www.scipy.org/)|数据科学\n",
    "[Requests](http://2.python-requests.org/zh_CN/latest/user/quickstart.html)|HTTP请求"
   ]
  },
  {
   "cell_type": "markdown",
   "metadata": {},
   "source": [
    "Scipy严格意义上是一种用于数据科学研究的`生态系统`，它由多个库共同构成。"
   ]
  },
  {
   "cell_type": "markdown",
   "metadata": {},
   "source": [
    "**哪里得知？**"
   ]
  },
  {
   "cell_type": "markdown",
   "metadata": {},
   "source": [
    "**如何获取？**"
   ]
  },
  {
   "cell_type": "markdown",
   "metadata": {},
   "source": [
    "**怎么学习？**"
   ]
  },
  {
   "cell_type": "markdown",
   "metadata": {},
   "source": [
    "<center>\n",
    "<img src='Python.jpg' height=90% width=90%>\n",
    "</center>"
   ]
  }
 ],
 "metadata": {
  "kernelspec": {
   "display_name": "Python 3",
   "language": "python",
   "name": "python3"
  },
  "language_info": {
   "codemirror_mode": {
    "name": "ipython",
    "version": 3
   },
   "file_extension": ".py",
   "mimetype": "text/x-python",
   "name": "python",
   "nbconvert_exporter": "python",
   "pygments_lexer": "ipython3",
   "version": "3.7.0"
  }
 },
 "nbformat": 4,
 "nbformat_minor": 2
}
