{
 "cells": [
  {
   "cell_type": "markdown",
   "metadata": {},
   "source": [
    "<center>\n",
    "<img src='Logo.jpg' height=30% width=30%>\n",
    "</center>"
   ]
  },
  {
   "cell_type": "markdown",
   "metadata": {},
   "source": [
    "# **站在巨人的肩膀上**"
   ]
  },
  {
   "cell_type": "markdown",
   "metadata": {},
   "source": [
    "前言提到，Python的一大优势在于丰富的**可扩展性**。在第一节课做超越运算的时，通过导入numpy模块，我们也初步体验了`Python库`(Python library)的强大。这些库提供了实现不同功能的`应用程序接口`(API, application programming interface)，使得学习者能够快速上手而无需了解实现方法和内部机制。"
   ]
  },
  {
   "cell_type": "markdown",
   "metadata": {},
   "source": [
    "## **I.标准库**"
   ]
  },
  {
   "cell_type": "markdown",
   "metadata": {},
   "source": [
    "> [Python标准库官方手册](https://docs.python.org/zh-cn/3.7/library/index.html)：供随时查阅。"
   ]
  },
  {
   "cell_type": "markdown",
   "metadata": {},
   "source": [
    "Python核心只提供了数字、字符串、列表、元组、字典、文件等常见类型和函数（这是为了尽量提高运行速度）。除此之外，还可导入一些无需下载的`标准库(Standard Library)`来扩展功能。下面列出一些常用/重要的函数。"
   ]
  },
  {
   "cell_type": "markdown",
   "metadata": {},
   "source": [
    "> 由于某些库需求的前置数学&计算机知识我们目前还不具备，并且难以在短时间内很好地掌握，我们可能只是点到为止或是只是提及。但这并不妨碍他成为一个重要的`标准库`。"
   ]
  },
  {
   "cell_type": "markdown",
   "metadata": {},
   "source": [
    "库名称|描述\n",
    ":-:|:-:\n",
    "pprint|美化大数据输出\n",
    "cmath|复数运算\n",
    "random|生成伪随机数\n",
    "os|系统接口\n",
    "sys|Python运行时的系统参数\n",
    "time|时间的访问和转换"
   ]
  },
  {
   "cell_type": "markdown",
   "metadata": {},
   "source": [
    "**pprint**"
   ]
  },
  {
   "cell_type": "code",
   "execution_count": null,
   "metadata": {},
   "outputs": [],
   "source": [
    "from pprint import pprint"
   ]
  },
  {
   "cell_type": "code",
   "execution_count": null,
   "metadata": {},
   "outputs": [],
   "source": [
    "a = [[i]*j for i in range(10) for j in range(i+1) if j != 0]"
   ]
  },
  {
   "cell_type": "code",
   "execution_count": null,
   "metadata": {},
   "outputs": [],
   "source": [
    "print(a)"
   ]
  },
  {
   "cell_type": "code",
   "execution_count": null,
   "metadata": {},
   "outputs": [],
   "source": [
    "pprint(a)"
   ]
  },
  {
   "cell_type": "markdown",
   "metadata": {},
   "source": [
    "**cmath**"
   ]
  },
  {
   "cell_type": "code",
   "execution_count": null,
   "metadata": {},
   "outputs": [],
   "source": [
    "import cmath"
   ]
  },
  {
   "cell_type": "code",
   "execution_count": null,
   "metadata": {},
   "outputs": [],
   "source": [
    "(1+1j) * (2+2j)"
   ]
  },
  {
   "cell_type": "code",
   "execution_count": null,
   "metadata": {},
   "outputs": [],
   "source": [
    "(3+2j) / (4+7j)"
   ]
  },
  {
   "cell_type": "markdown",
   "metadata": {},
   "source": [
    "**random**"
   ]
  },
  {
   "cell_type": "code",
   "execution_count": null,
   "metadata": {},
   "outputs": [],
   "source": [
    "import random"
   ]
  },
  {
   "cell_type": "code",
   "execution_count": null,
   "metadata": {},
   "outputs": [],
   "source": [
    "random.random() #随机返回一个0-1之间的浮点数"
   ]
  },
  {
   "cell_type": "markdown",
   "metadata": {},
   "source": [
    "**os**"
   ]
  },
  {
   "cell_type": "code",
   "execution_count": null,
   "metadata": {},
   "outputs": [],
   "source": [
    "import os\n",
    "os.getcwd() #获取文件当前路径"
   ]
  },
  {
   "cell_type": "code",
   "execution_count": null,
   "metadata": {},
   "outputs": [],
   "source": [
    "os.path.getsize(os.getcwd()) #获取当前文件大小"
   ]
  },
  {
   "cell_type": "code",
   "execution_count": null,
   "metadata": {},
   "outputs": [],
   "source": [
    "os.path.dirname(os.getcwd()) #获取路径目录"
   ]
  },
  {
   "cell_type": "code",
   "execution_count": null,
   "metadata": {},
   "outputs": [],
   "source": [
    "os.listdir(os.getcwd()) #获取当前目录下所有文件名"
   ]
  },
  {
   "cell_type": "markdown",
   "metadata": {},
   "source": [
    "**sys**"
   ]
  },
  {
   "cell_type": "code",
   "execution_count": null,
   "metadata": {},
   "outputs": [],
   "source": [
    "import sys"
   ]
  },
  {
   "cell_type": "code",
   "execution_count": null,
   "metadata": {},
   "outputs": [],
   "source": [
    "sys.platform #操作系统的名称"
   ]
  },
  {
   "cell_type": "code",
   "execution_count": null,
   "metadata": {},
   "outputs": [],
   "source": [
    "sys.version #Python的版本信息"
   ]
  },
  {
   "cell_type": "code",
   "execution_count": null,
   "metadata": {},
   "outputs": [],
   "source": [
    "sys.argv[0] #代码文件*.py的路径，用脚本式编辑器即文件本身"
   ]
  },
  {
   "cell_type": "code",
   "execution_count": null,
   "metadata": {},
   "outputs": [],
   "source": [
    "sys.path #返回模块的搜索路径，初始化时使用PYTHONPATH变量的值并空出0索引，可自定义赋值"
   ]
  },
  {
   "cell_type": "markdown",
   "metadata": {},
   "source": [
    "**time**"
   ]
  },
  {
   "cell_type": "code",
   "execution_count": null,
   "metadata": {},
   "outputs": [],
   "source": [
    "import time"
   ]
  },
  {
   "cell_type": "code",
   "execution_count": null,
   "metadata": {},
   "outputs": [],
   "source": [
    "time.time() #从1970年1月1日午夜起经历的秒数"
   ]
  },
  {
   "cell_type": "code",
   "execution_count": null,
   "metadata": {},
   "outputs": [],
   "source": [
    "time.localtime() #这里返回的是一个对象"
   ]
  },
  {
   "cell_type": "code",
   "execution_count": null,
   "metadata": {},
   "outputs": [],
   "source": [
    "time.asctime(time.localtime())"
   ]
  },
  {
   "cell_type": "markdown",
   "metadata": {},
   "source": [
    "可能暂时学习有困难，但确实重要且实用的标准库：  \n",
    "\n",
    "库名称|描述\n",
    ":-:|:-:\n",
    "re|正则表达式\n",
    "logging|日志记录\n",
    "threading|多线程处理\n",
    "pickle|对象序列化与反序列化\n",
    "socket|底层网络接口\n",
    "tkinter|图形用户界面\n",
    "email|电子邮件处理\n",
    "json|JSON编码解码器\n",
    "base64|Base16, Base32, Base64, Base85数据编码\n",
    "...|以及更多"
   ]
  },
  {
   "cell_type": "markdown",
   "metadata": {},
   "source": [
    "> 这些库看上去很多而且很吓人。但是我们第一节课就提到过，编程语言的进阶是通过不断地做想做的项目来实现的。所以我们完全不必每个都学透再去实践；相反，当我们需要它的时候，我们才去关心它。标准库的功能应用非常广泛，经过几次实践的学习，相信大家都能掌握得八九不离十了。\n",
    "\n",
    "> 不要忘记至理名言：**人生苦短，我用Python。**"
   ]
  },
  {
   "cell_type": "markdown",
   "metadata": {},
   "source": [
    "## **II.第三方库**"
   ]
  },
  {
   "cell_type": "markdown",
   "metadata": {},
   "source": [
    "标准库使得Python内涵丰富，而第三方库使得Python无所不能。"
   ]
  },
  {
   "cell_type": "markdown",
   "metadata": {},
   "source": [
    "第三方库是指由个人/团队/社区开发、发布、维护的模块，一般地不包含在Python标准发行版中。由于参与者众多，所以可谓“只有想不到，没有做不到。”"
   ]
  },
  {
   "cell_type": "markdown",
   "metadata": {},
   "source": [
    "库名称|描述\n",
    ":-:|:-:\n",
    "[TenserFlow](https://tensorflow.google.cn/)|Google发布的深度学习框架\n",
    "[PyTorch](https://pytorch-cn.readthedocs.io/zh/latest/)|Facebook发布的深度学习框架\n",
    "[Scipy](https://www.scipy.org/)|数据科学\n",
    "[Scrapy](https://scrapy.org/)|最受欢迎的爬虫库\n",
    "[Pillow](https://pillow.readthedocs.io/en/stable/)|更友好的图形库，PIL的分支\n",
    "[wxPython](https://www.wxpython.org/)|更友好的GUI工具\n",
    "[pyQT](https://www.riverbankcomputing.com/static/Docs/PyQt5/)|更友好的GUI工具\n",
    "[Pygame](https://www.pygame.org/news)|开发2D游戏\n",
    "[Pyglet](https://pyglet.readthedocs.io/en/pyglet-1.3-maintenance/)|3D动画和游戏引擎（代表作：Minecraft）\n",
    "[Scapy](https://scapy.readthedocs.io/en/latest/)|数据包探测和分析\n",
    "[Requests](https://2.python-requests.org//en/master/)|http\n",
    "[itChat](https://pypi.org/project/itchat/1.0.11/)|与微信对接的库\n",
    "...|只有想不到，没有做不到"
   ]
  },
  {
   "cell_type": "markdown",
   "metadata": {},
   "source": [
    "Scipy严格意义上是一种用于数据科学研究的`生态系统`，它由多个库与工具共同构成，可以处理插值、积分、优化、图像处理、常微分方程数值解、信号处理等问题。"
   ]
  },
  {
   "cell_type": "markdown",
   "metadata": {},
   "source": [
    "库名称|描述\n",
    ":-:|:-:\n",
    "numpy|Scipy的基础，多维数组运算\n",
    "matplotlib|可视化输出\n",
    "pandas|数据结构与分析\n",
    "IPython|增强交互式控制台\n",
    "Sympy|符号数学\n",
    "Scipy Library|基础科学库\n",
    "Librosa|音频分析库\n",
    "...|..."
   ]
  },
  {
   "cell_type": "markdown",
   "metadata": {},
   "source": [
    "**哪里得知？**"
   ]
  },
  {
   "cell_type": "markdown",
   "metadata": {},
   "source": [
    "全球程序员都在使用一个叫做[GitHub]()的代码托管分享网站。在这里，每个人都可以阅读他人的代码，给个Star（类似于点赞），甚至对他人的代码作出贡献。Python的第三方库都在这里发布，因此根据Star数和贡献数来评判一个Python库不失为一个好的标准。然而，有些小众的库同样具有强大的功能（比如我这几天在学习的[pyguitarpro]()），这就需要积极的检索。"
   ]
  },
  {
   "cell_type": "markdown",
   "metadata": {},
   "source": [
    "> 在较有时效性的课本中、在各大论坛社区中，也会有Python库的推荐！"
   ]
  },
  {
   "cell_type": "markdown",
   "metadata": {},
   "source": [
    "**如何获取？**"
   ]
  },
  {
   "cell_type": "markdown",
   "metadata": {},
   "source": [
    "库的管理习惯上使用一个叫做`pip`的管理工具，只要在命令行（或linux和mac上的终端）中输入`pip install library`就能自动开始安装。此外，还可以通过`conda`管理工具、直接拖入文件等进行安装。"
   ]
  },
  {
   "cell_type": "markdown",
   "metadata": {},
   "source": [
    "**怎么学习？**"
   ]
  },
  {
   "cell_type": "markdown",
   "metadata": {},
   "source": [
    "第三方库通常配有**参考手册(References)**，包括API查询和函数查询。大型的优质第三方库还会配有官方或非官方的**教程(Tutorial)**和示例以供快速学习。\n",
    "\n",
    "> 参考手册类似于考前背的物理公式，教程类似于物理课本，帮助你理解公式。\n",
    "\n",
    "对于老鸟来说，可能看着参考手册就知道该怎么做了。但是对于新手(newbee)，尽量找到教程学习，进步会更快。"
   ]
  },
  {
   "cell_type": "markdown",
   "metadata": {},
   "source": [
    "<center>\n",
    "<img src='Python.jpg' height=90% width=90%>\n",
    "</center>"
   ]
  }
 ],
 "metadata": {
  "kernelspec": {
   "display_name": "Python 3",
   "language": "python",
   "name": "python3"
  },
  "language_info": {
   "codemirror_mode": {
    "name": "ipython",
    "version": 3
   },
   "file_extension": ".py",
   "mimetype": "text/x-python",
   "name": "python",
   "nbconvert_exporter": "python",
   "pygments_lexer": "ipython3",
   "version": "3.7.3"
  }
 },
 "nbformat": 4,
 "nbformat_minor": 4
}
