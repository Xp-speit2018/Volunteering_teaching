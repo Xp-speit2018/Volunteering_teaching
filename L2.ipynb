{
 "cells": [
  {
   "cell_type": "markdown",
   "metadata": {},
   "source": [
    "<center>\n",
    "<img src='Logo.jpg' height=30% width=30%>\n",
    "</center>"
   ]
  },
  {
   "cell_type": "markdown",
   "metadata": {},
   "source": [
    "# **方法**"
   ]
  },
  {
   "cell_type": "markdown",
   "metadata": {},
   "source": [
    "## **什么是方法？**"
   ]
  },
  {
   "cell_type": "markdown",
   "metadata": {},
   "source": [
    "---\n",
    "前言提到，编程思想分为`面向过程`与`面向对象` 两种。  \n",
    "面向过程：分析出解决问题需要的步骤然后一步步地去实现它；  \n",
    "面向对象：把构成问题的事物分解为一类类行为相似的对象，然后描述这些对象的行为。\n",
    "\n",
    "**举个例子：下五子棋**  \n",
    "\n",
    "> 面向过程：各方轮流放棋子，每下一步绘制棋盘，判断输赢  \n",
    "> 面向对象：黑白双方（行为：下棋）、裁判（裁定）、棋盘绘制器（图像化）  \n",
    "\n",
    "实际上，面向对象是以功能，而不是步骤，来划分问题。这样的编程思想在编写体量较大的程序时优势尤为明显。  \n",
    "\n",
    "一类对象的共同行为，我们称之为这类对象的`方法`。在上节课中我们学习了Python的一些内置类，下面我们来进一步学习它们的方法。\n",
    "\n",
    "---"
   ]
  },
  {
   "cell_type": "markdown",
   "metadata": {},
   "source": [
    "## **I.列表方法**"
   ]
  },
  {
   "cell_type": "markdown",
   "metadata": {},
   "source": [
    "列表是Python中最常见的数据容器。它是一种有序的可变序列。  \n",
    "学习了列表方法之后，其余的序列方法基本可以触类旁通。"
   ]
  },
  {
   "cell_type": "markdown",
   "metadata": {},
   "source": [
    "**索引(indexing)**"
   ]
  },
  {
   "cell_type": "code",
   "execution_count": null,
   "metadata": {},
   "outputs": [],
   "source": [
    "l = [9,8,7]\n",
    "print(l[0])"
   ]
  },
  {
   "cell_type": "markdown",
   "metadata": {},
   "source": [
    "**衔接**"
   ]
  },
  {
   "cell_type": "code",
   "execution_count": null,
   "metadata": {},
   "outputs": [],
   "source": [
    "[1,2,3] + [4,5,6]"
   ]
  },
  {
   "cell_type": "markdown",
   "metadata": {},
   "source": [
    "**乘法**"
   ]
  },
  {
   "cell_type": "code",
   "execution_count": null,
   "metadata": {},
   "outputs": [],
   "source": [
    "[1]*6"
   ]
  },
  {
   "cell_type": "code",
   "execution_count": null,
   "metadata": {},
   "outputs": [],
   "source": [
    "[1]*1 + [2]*2 + [3]*3"
   ]
  },
  {
   "cell_type": "markdown",
   "metadata": {},
   "source": [
    "**小练习：给出年月日，按格式输出日期**"
   ]
  },
  {
   "cell_type": "code",
   "execution_count": null,
   "metadata": {},
   "outputs": [],
   "source": [
    "'''\n",
    "\n",
    "Print out a date, given year, month and day as numbers.\n",
    "\n",
    "Example input  : 1974, 8, 16\n",
    "Example output : August 16th, 1974\n",
    "'''\n",
    "months = [\n",
    "    'January',\n",
    "    'February',\n",
    "    'March',\n",
    "    'April',\n",
    "    'May',\n",
    "    'June',\n",
    "    'July',\n",
    "    'August',\n",
    "    'September',\n",
    "    'October',\n",
    "    'November',\n",
    "    'December'\n",
    "]\n",
    "\n",
    "# A list with one ending corresponding to each number from 1 to 31.\n",
    "endings = _______________________#It's your turn!\n",
    "\n",
    "year  = input('Year: ')\n",
    "month = input('Month (1-12): ')\n",
    "day   = input('Day (1-31): ')\n",
    "\n",
    "month_number = int(month)\n",
    "day_number   = int(day)\n",
    "\n",
    "month_name = ___________________________#It's your turn!\n",
    "ordinal    = day + endings[day_number-1]\n",
    "\n",
    "print(_________________________)#It's your turn!"
   ]
  },
  {
   "cell_type": "markdown",
   "metadata": {},
   "source": [
    "> 提示：\n",
    "- 不要忘记索引是从0开始的！\n",
    "- print()函数在接受多个参数时默认用一个空格分开，并且每个print末尾都有一个回车。可以这样改变：print(something,sep='分隔符',end='结束符')"
   ]
  },
  {
   "cell_type": "markdown",
   "metadata": {},
   "source": [
    "这里我们默认用户的输入是合法且合理的。为了更强的鲁棒性，可以尝试添加if语句！"
   ]
  },
  {
   "cell_type": "markdown",
   "metadata": {},
   "source": [
    "**切片(slice)**"
   ]
  },
  {
   "cell_type": "markdown",
   "metadata": {},
   "source": [
    "基本表达式：$object[start\\_index:end\\_index:step]$, 其中step是可选参数。"
   ]
  },
  {
   "cell_type": "code",
   "execution_count": null,
   "metadata": {},
   "outputs": [],
   "source": [
    "numbers = [0,1,2,3,4,5,6,7,8,9]\n",
    "print(numbers[0:6])"
   ]
  },
  {
   "cell_type": "code",
   "execution_count": null,
   "metadata": {},
   "outputs": [],
   "source": [
    "numbers[2:]"
   ]
  },
  {
   "cell_type": "code",
   "execution_count": null,
   "metadata": {},
   "outputs": [],
   "source": [
    "numbers[:4]"
   ]
  },
  {
   "cell_type": "code",
   "execution_count": null,
   "metadata": {},
   "outputs": [],
   "source": [
    "#自己随意切切看！\n"
   ]
  },
  {
   "cell_type": "markdown",
   "metadata": {},
   "source": [
    "有两种方式理解Python的切片：\n",
    "> - 包含头不包含尾，左闭右开；\n",
    "- 切片是间隔的索引。"
   ]
  },
  {
   "cell_type": "markdown",
   "metadata": {},
   "source": [
    "可以进一步设置切片的步长(step)："
   ]
  },
  {
   "cell_type": "code",
   "execution_count": null,
   "metadata": {},
   "outputs": [],
   "source": [
    "print(numbers[0:6:2])"
   ]
  },
  {
   "cell_type": "markdown",
   "metadata": {},
   "source": [
    "<center>\n",
    "    <img src='slice.jpg'>\n",
    "</center>"
   ]
  },
  {
   "cell_type": "markdown",
   "metadata": {},
   "source": [
    "也可以引入负索引（倒序常用）："
   ]
  },
  {
   "cell_type": "code",
   "execution_count": null,
   "metadata": {},
   "outputs": [],
   "source": [
    "print(numbers[-10:-1])"
   ]
  },
  {
   "cell_type": "code",
   "execution_count": null,
   "metadata": {},
   "outputs": [],
   "source": [
    "print(numbers[-1:-11:-1])"
   ]
  },
  {
   "cell_type": "markdown",
   "metadata": {},
   "source": [
    "**成员资格(membership)**"
   ]
  },
  {
   "cell_type": "code",
   "execution_count": null,
   "metadata": {},
   "outputs": [],
   "source": [
    "0 in numbers"
   ]
  },
  {
   "cell_type": "code",
   "execution_count": null,
   "metadata": {},
   "outputs": [],
   "source": [
    "256 in numbers"
   ]
  },
  {
   "cell_type": "markdown",
   "metadata": {},
   "source": [
    "成员资格检查返回一个布尔值，通常与if或循环联用。"
   ]
  },
  {
   "cell_type": "markdown",
   "metadata": {},
   "source": [
    "**长度**"
   ]
  },
  {
   "cell_type": "code",
   "execution_count": null,
   "metadata": {},
   "outputs": [],
   "source": [
    "len(numbers)"
   ]
  },
  {
   "cell_type": "markdown",
   "metadata": {},
   "source": [
    "**赋值(assignment)**"
   ]
  },
  {
   "cell_type": "code",
   "execution_count": null,
   "metadata": {},
   "outputs": [],
   "source": [
    "test_assignment = [4,3,2,1,0]\n",
    "test_assignment[2] = 512\n",
    "test_assignment"
   ]
  },
  {
   "cell_type": "code",
   "execution_count": null,
   "metadata": {},
   "outputs": [],
   "source": [
    "name = ['P','e','a','c','h']\n",
    "name[1:] = ['y','t','h','o','n']\n",
    "name"
   ]
  },
  {
   "cell_type": "markdown",
   "metadata": {},
   "source": [
    "使用切片的赋值方法可以用来插入元素："
   ]
  },
  {
   "cell_type": "code",
   "execution_count": null,
   "metadata": {},
   "outputs": [],
   "source": [
    "example = [1,5]\n",
    "example[1:1] = [2,3,4]\n",
    "example"
   ]
  },
  {
   "cell_type": "markdown",
   "metadata": {},
   "source": [
    "**复制**"
   ]
  },
  {
   "cell_type": "markdown",
   "metadata": {},
   "source": [
    "如果我们使用常规的方法“复制”列表："
   ]
  },
  {
   "cell_type": "code",
   "execution_count": null,
   "metadata": {},
   "outputs": [],
   "source": [
    "a = [1,2,3,4]\n",
    "b=a\n",
    "b"
   ]
  },
  {
   "cell_type": "markdown",
   "metadata": {},
   "source": [
    "看上去好像没什么问题。但是，这样其实只是给这个列表贴上了另一个名字。"
   ]
  },
  {
   "cell_type": "code",
   "execution_count": null,
   "metadata": {},
   "outputs": [],
   "source": [
    "b[1] = 10\n",
    "a"
   ]
  },
  {
   "cell_type": "markdown",
   "metadata": {},
   "source": [
    "修改b，a也跟着变。实际上a与b只是同一个列表的不同叫法。为了避免这个问题，我们可以使用list.copy()方法。"
   ]
  },
  {
   "cell_type": "code",
   "execution_count": null,
   "metadata": {},
   "outputs": [],
   "source": [
    "a = [1,2,3,4]\n",
    "b = a.copy()\n",
    "b[1] = 10\n",
    "a"
   ]
  },
  {
   "cell_type": "markdown",
   "metadata": {},
   "source": [
    "> 实际上copy（又称浅拷贝）只复制了最外围的对象，当copy一个多层嵌套的列表时还会出现上述问题。为了完全避免这个问题，我们可以使用copy模块中的deepcopy函数。**当列表内容不可变时浅拷贝即可。**"
   ]
  },
  {
   "cell_type": "markdown",
   "metadata": {},
   "source": [
    "**list.append(element)**"
   ]
  },
  {
   "cell_type": "code",
   "execution_count": null,
   "metadata": {},
   "outputs": [],
   "source": [
    "lst = [1,2,3]\n",
    "lst.append(4)\n",
    "lst"
   ]
  },
  {
   "cell_type": "markdown",
   "metadata": {},
   "source": [
    "你可能会奇怪为什么我选择了lst这个丑陋的名字？为什么不直接称之为list？其实，在Python中，标识符的命名有一定讲究：首先不能与`保留字`相同。保留字是Python中具有特殊含义的内置标识符，这里list就是一个。其次标识符应该由大小写字母、数字、下划线组成，并且不能由数字开头。  \n",
    "```python\n",
    "#以下标识符是合法的\n",
    "UserID\n",
    "userid123\n",
    "User_ID\n",
    "\n",
    "#以下标识符是不合法的\n",
    "123UserID\n",
    "User$ID\n",
    "try\n",
    "```\n",
    "\n",
    "另外，以后会学到，以下划线开头的标识符表示特定含义。初学者应尽量避免用下划线作为标识符的开头。 "
   ]
  },
  {
   "cell_type": "markdown",
   "metadata": {},
   "source": [
    "**list.count(element)**"
   ]
  },
  {
   "cell_type": "code",
   "execution_count": null,
   "metadata": {},
   "outputs": [],
   "source": [
    "lst = [1,2,3,4,1,2,1,2,'1',[1]]\n",
    "lst.count(1)"
   ]
  },
  {
   "cell_type": "markdown",
   "metadata": {},
   "source": [
    "**list_1.extend(list_2)**"
   ]
  },
  {
   "cell_type": "code",
   "execution_count": null,
   "metadata": {},
   "outputs": [],
   "source": [
    "a = [1,2,3]\n",
    "b = [4,5,6]\n",
    "a.extend(b)\n",
    "a"
   ]
  },
  {
   "cell_type": "markdown",
   "metadata": {},
   "source": [
    "list.extend()这个方法与加法有点类似，区别在于这里`修改`了a。"
   ]
  },
  {
   "cell_type": "markdown",
   "metadata": {},
   "source": [
    "**list.index(element)**"
   ]
  },
  {
   "cell_type": "code",
   "execution_count": null,
   "metadata": {},
   "outputs": [],
   "source": [
    "a = [5,4,3,2,1]\n",
    "a.index(1)"
   ]
  },
  {
   "cell_type": "markdown",
   "metadata": {},
   "source": [
    "list.index()方法返回所要寻找的元素的`首个`索引。如果找不到会报错。"
   ]
  },
  {
   "cell_type": "markdown",
   "metadata": {},
   "source": [
    "**list.insert(position,element)**"
   ]
  },
  {
   "cell_type": "code",
   "execution_count": null,
   "metadata": {},
   "outputs": [],
   "source": [
    "a = [1,2,3,4,5]\n",
    "a.insert(3,'four')\n",
    "a"
   ]
  },
  {
   "cell_type": "markdown",
   "metadata": {},
   "source": [
    "**list.pop(positon=len(list))**"
   ]
  },
  {
   "cell_type": "markdown",
   "metadata": {},
   "source": [
    "剔除指定位置上的元素并返回这个元素，如不指定默认为最后一个。"
   ]
  },
  {
   "cell_type": "code",
   "execution_count": null,
   "metadata": {},
   "outputs": [],
   "source": [
    "a = [1,2,3,4,5]\n",
    "a.pop()"
   ]
  },
  {
   "cell_type": "code",
   "execution_count": null,
   "metadata": {},
   "outputs": [],
   "source": [
    "a"
   ]
  },
  {
   "cell_type": "code",
   "execution_count": null,
   "metadata": {},
   "outputs": [],
   "source": [
    "a = [4,5,6,7,8]\n",
    "a.pop(0)"
   ]
  },
  {
   "cell_type": "code",
   "execution_count": null,
   "metadata": {},
   "outputs": [],
   "source": [
    "a"
   ]
  },
  {
   "cell_type": "markdown",
   "metadata": {},
   "source": [
    "**list.reverse()**"
   ]
  },
  {
   "cell_type": "code",
   "execution_count": null,
   "metadata": {},
   "outputs": [],
   "source": [
    "x = [1,2,3]\n",
    "x.reverse()\n",
    "x"
   ]
  },
  {
   "cell_type": "markdown",
   "metadata": {},
   "source": [
    "**list.sort()**"
   ]
  },
  {
   "cell_type": "code",
   "execution_count": null,
   "metadata": {},
   "outputs": [],
   "source": [
    "x = [1,4,3,2,4,2,5,7,0]\n",
    "x.sort()\n",
    "x"
   ]
  },
  {
   "cell_type": "code",
   "execution_count": null,
   "metadata": {},
   "outputs": [],
   "source": [
    "x.sort(reverse=True)\n",
    "x"
   ]
  },
  {
   "cell_type": "markdown",
   "metadata": {},
   "source": [
    "## **II.元组方法**"
   ]
  },
  {
   "cell_type": "markdown",
   "metadata": {},
   "source": [
    "元组是有序不可变的序列。"
   ]
  },
  {
   "cell_type": "markdown",
   "metadata": {},
   "source": [
    "如果需要建立一个单元素的元组，需要注意这一点："
   ]
  },
  {
   "cell_type": "code",
   "execution_count": null,
   "metadata": {},
   "outputs": [],
   "source": [
    "type((42))"
   ]
  },
  {
   "cell_type": "code",
   "execution_count": null,
   "metadata": {},
   "outputs": [],
   "source": [
    "type((42,))"
   ]
  },
  {
   "cell_type": "code",
   "execution_count": null,
   "metadata": {},
   "outputs": [],
   "source": [
    "3*(40+2)"
   ]
  },
  {
   "cell_type": "code",
   "execution_count": null,
   "metadata": {},
   "outputs": [],
   "source": [
    "3*(40+2,)"
   ]
  },
  {
   "cell_type": "markdown",
   "metadata": {},
   "source": [
    "元组的索引、切片、加法、乘法与列表一致。除此之外几乎没有什么幺蛾子。它大多数用于给函数提供参数，或者是作为某些函数的返回对象。由于不可变特性，在我们需要处理（而不仅仅是读取）元组的数据时，我们通常将其转化为列表："
   ]
  },
  {
   "cell_type": "code",
   "execution_count": null,
   "metadata": {},
   "outputs": [],
   "source": [
    "a = (42,42,42)\n",
    "a_list = list(a)\n",
    "a_list"
   ]
  },
  {
   "cell_type": "markdown",
   "metadata": {},
   "source": [
    "同样列表也可以转化为元组："
   ]
  },
  {
   "cell_type": "code",
   "execution_count": null,
   "metadata": {},
   "outputs": [],
   "source": [
    "tuple([42,42,42])"
   ]
  },
  {
   "cell_type": "markdown",
   "metadata": {},
   "source": [
    "在不引起歧义的情况下通常元组的括号可以省略："
   ]
  },
  {
   "cell_type": "code",
   "execution_count": null,
   "metadata": {},
   "outputs": [],
   "source": [
    "1,2,3"
   ]
  },
  {
   "cell_type": "markdown",
   "metadata": {},
   "source": [
    "**解包**"
   ]
  },
  {
   "cell_type": "code",
   "execution_count": null,
   "metadata": {},
   "outputs": [],
   "source": [
    "a, b, c = (1,2,3)\n",
    "print(a,b,c)"
   ]
  },
  {
   "cell_type": "code",
   "execution_count": null,
   "metadata": {},
   "outputs": [],
   "source": [
    "t = (1,2,3)\n",
    "a, b, c = t\n",
    "print(a,b,c)"
   ]
  },
  {
   "cell_type": "markdown",
   "metadata": {},
   "source": [
    "在给多元函数传递参数时，元组解包要加上*。"
   ]
  },
  {
   "cell_type": "code",
   "execution_count": null,
   "metadata": {},
   "outputs": [],
   "source": [
    "lst = [1,3]\n",
    "para = (1,2)\n",
    "lst.insert(*para)\n",
    "lst"
   ]
  },
  {
   "cell_type": "markdown",
   "metadata": {},
   "source": [
    "## **III.字符串方法**"
   ]
  },
  {
   "cell_type": "markdown",
   "metadata": {},
   "source": [
    "字符串方法多而复杂，完整的方法存储在`string`模块中。我们只学习无需导入的最基础的方法。"
   ]
  },
  {
   "cell_type": "markdown",
   "metadata": {},
   "source": [
    "**索引、切片、衔接、乘法**与列表一致。"
   ]
  },
  {
   "cell_type": "markdown",
   "metadata": {},
   "source": [
    "**sep.join(sequence)**"
   ]
  },
  {
   "cell_type": "markdown",
   "metadata": {},
   "source": [
    "一个及其重要的字符串方法，用指定的分隔符（separator）将序列中的元素（字符串类）连接为一个字符串。"
   ]
  },
  {
   "cell_type": "code",
   "execution_count": null,
   "metadata": {},
   "outputs": [],
   "source": [
    "'+'.join([1,2,3,4,5])"
   ]
  },
  {
   "cell_type": "code",
   "execution_count": null,
   "metadata": {},
   "outputs": [],
   "source": [
    "'+'.join(['1','2','3','4','5'])"
   ]
  },
  {
   "cell_type": "code",
   "execution_count": null,
   "metadata": {},
   "outputs": [],
   "source": [
    "''.join(['there','is','no','space'])"
   ]
  },
  {
   "cell_type": "code",
   "execution_count": null,
   "metadata": {},
   "outputs": [],
   "source": [
    "dirs = '','usr','bin','env'\n",
    "'\\\\'.join(dirs)"
   ]
  },
  {
   "cell_type": "markdown",
   "metadata": {},
   "source": [
    "**sequence.split(sep)**"
   ]
  },
  {
   "cell_type": "markdown",
   "metadata": {},
   "source": [
    "同样重要，相当于是join的逆方法。"
   ]
  },
  {
   "cell_type": "code",
   "execution_count": null,
   "metadata": {},
   "outputs": [],
   "source": [
    "'1+2+3+4+5'.split('+')"
   ]
  },
  {
   "cell_type": "code",
   "execution_count": null,
   "metadata": {},
   "outputs": [],
   "source": [
    "'/usr/bin/env'.split('/')"
   ]
  },
  {
   "cell_type": "code",
   "execution_count": null,
   "metadata": {},
   "outputs": [],
   "source": [
    "'老司机 带带我 我要去省城'.split(' ')"
   ]
  },
  {
   "cell_type": "markdown",
   "metadata": {},
   "source": [
    "**string.strip()**"
   ]
  },
  {
   "cell_type": "markdown",
   "metadata": {},
   "source": [
    "返回去除两侧的空白的新字符串。"
   ]
  },
  {
   "cell_type": "code",
   "execution_count": null,
   "metadata": {},
   "outputs": [],
   "source": [
    "'    internal whitespace is kept     '.strip()"
   ]
  },
  {
   "cell_type": "markdown",
   "metadata": {},
   "source": [
    "**string.replace(kw1,kw2)**"
   ]
  },
  {
   "cell_type": "markdown",
   "metadata": {},
   "source": [
    "返回将kw1全部替换成kw2的新字符串。"
   ]
  },
  {
   "cell_type": "code",
   "execution_count": null,
   "metadata": {},
   "outputs": [],
   "source": [
    "'This is a test.'.replace('is','ez')"
   ]
  },
  {
   "cell_type": "markdown",
   "metadata": {},
   "source": [
    "**string.lower()与string.upper()**"
   ]
  },
  {
   "cell_type": "markdown",
   "metadata": {},
   "source": [
    "返回字符串的小写（大写）版本。常用于不区分大小写的成员检查。"
   ]
  },
  {
   "cell_type": "code",
   "execution_count": null,
   "metadata": {},
   "outputs": [],
   "source": [
    "'Heroes Never Die!'.lower()"
   ]
  },
  {
   "cell_type": "code",
   "execution_count": null,
   "metadata": {},
   "outputs": [],
   "source": [
    "'keep your hand!'.upper()"
   ]
  },
  {
   "cell_type": "code",
   "execution_count": null,
   "metadata": {},
   "outputs": [],
   "source": [
    "'Gumby'.lower() in ['gumby','smith','vector']"
   ]
  },
  {
   "cell_type": "markdown",
   "metadata": {},
   "source": [
    "**格式化**"
   ]
  },
  {
   "cell_type": "markdown",
   "metadata": {},
   "source": [
    "常用于标准化输出。Python支持多种字符串格式化方法。这里我们选择最简单的一种：  \n",
    "**string.format(kw)**"
   ]
  },
  {
   "cell_type": "code",
   "execution_count": null,
   "metadata": {},
   "outputs": [],
   "source": [
    "'{},{} and {}'.format('first','second','third')"
   ]
  },
  {
   "cell_type": "code",
   "execution_count": null,
   "metadata": {},
   "outputs": [],
   "source": [
    "para = ('first','second','third')\n",
    "'{},{} and {}'.format(*para)"
   ]
  },
  {
   "cell_type": "code",
   "execution_count": null,
   "metadata": {},
   "outputs": [],
   "source": [
    "'{2},{0} and {1}'.format('first','second','third')"
   ]
  },
  {
   "cell_type": "code",
   "execution_count": null,
   "metadata": {},
   "outputs": [],
   "source": [
    "'{3} {3} {5} {6} {6} {5} {3} {2} {1} {1} {2} {3} {3} {2} {2}'.format('','do','re','mi','fa','so','la')"
   ]
  },
  {
   "cell_type": "code",
   "execution_count": null,
   "metadata": {},
   "outputs": [],
   "source": [
    "'{x},{y} and {z}'.format(x='学校',y='音乐',z='蜘蛛')"
   ]
  },
  {
   "cell_type": "markdown",
   "metadata": {},
   "source": [
    "## **IV.字典方法**"
   ]
  },
  {
   "cell_type": "markdown",
   "metadata": {},
   "source": [
    "我们对列表处理成组数据的高效性已经略有体验。列表是一种通过数字来索引内容的序列，称为`有序序列`；在这里，我们将着重学习通过关键字索引内容的无序可变序列：字典。这种索引方式叫做`映射(Mapping)`。"
   ]
  },
  {
   "cell_type": "markdown",
   "metadata": {},
   "source": [
    "字典的索引、赋值、成员资格检查与列表类似，但没有切片、衔接方法，因为它是无序的。"
   ]
  },
  {
   "cell_type": "markdown",
   "metadata": {},
   "source": [
    "值得一提的是，如果赋值时指定键不存在，键值对会被自动添加到字典中。"
   ]
  },
  {
   "cell_type": "code",
   "execution_count": null,
   "metadata": {},
   "outputs": [],
   "source": [
    "auto_add = {}\n",
    "auto_add['Kidding'] = False\n",
    "auto_add"
   ]
  },
  {
   "cell_type": "markdown",
   "metadata": {},
   "source": [
    "**dict.get(key)**"
   ]
  },
  {
   "cell_type": "markdown",
   "metadata": {},
   "source": [
    "尝试根据给定键找值。如果找不到就返回None."
   ]
  },
  {
   "cell_type": "code",
   "execution_count": null,
   "metadata": {},
   "outputs": [],
   "source": [
    "example = {}\n",
    "example['test']"
   ]
  },
  {
   "cell_type": "code",
   "execution_count": null,
   "metadata": {},
   "outputs": [],
   "source": [
    "print(example.get('test'))"
   ]
  },
  {
   "cell_type": "markdown",
   "metadata": {},
   "source": [
    "**{}.fromkeys(list)**"
   ]
  },
  {
   "cell_type": "code",
   "execution_count": null,
   "metadata": {},
   "outputs": [],
   "source": [
    "{}.fromkeys(names)"
   ]
  },
  {
   "cell_type": "markdown",
   "metadata": {},
   "source": [
    "**dict.setdefault(key,value)**"
   ]
  },
  {
   "cell_type": "markdown",
   "metadata": {},
   "source": [
    "如果key已经存在，那么这个方法相当于dict.get(key)。如果key不存在，那么这个方法相当于dict[key]=value加上返回value。"
   ]
  },
  {
   "cell_type": "code",
   "execution_count": null,
   "metadata": {},
   "outputs": [],
   "source": [
    "phonebook.setdefault('Alice','1234')"
   ]
  },
  {
   "cell_type": "code",
   "execution_count": null,
   "metadata": {},
   "outputs": [],
   "source": [
    "print(phonebook.setdefault('Florida','1645'))\n",
    "print(phonebook)"
   ]
  },
  {
   "cell_type": "markdown",
   "metadata": {},
   "source": [
    "**dict.pop(key)**"
   ]
  },
  {
   "cell_type": "code",
   "execution_count": null,
   "metadata": {},
   "outputs": [],
   "source": [
    "d = {'x':1,'y':2}\n",
    "d.pop('x')\n",
    "d"
   ]
  },
  {
   "cell_type": "markdown",
   "metadata": {},
   "source": [
    "**dict.update(item)**"
   ]
  },
  {
   "cell_type": "code",
   "execution_count": null,
   "metadata": {},
   "outputs": [],
   "source": [
    "d = {\n",
    "    'title':'Python website',\n",
    "    'url'  :'http://www.python.org'\n",
    "}\n",
    "\n",
    "x = {'title':'Python Language website'}\n",
    "d.update(x)\n",
    "d"
   ]
  },
  {
   "cell_type": "markdown",
   "metadata": {},
   "source": [
    "**字典方法小练习：一个简单的可查询数据库**"
   ]
  },
  {
   "cell_type": "code",
   "execution_count": null,
   "metadata": {},
   "outputs": [],
   "source": [
    "# A simple database\n",
    "\n",
    "'''\n",
    "A dictionary with person names as keys. Each person is represented as another\n",
    "dictionary with keys 'phone' and 'addr' referring to their phone number and address.\n",
    "'''\n",
    "\n",
    "people = {\n",
    "    'Alice':{\n",
    "        'phone':'6415',\n",
    "        'addr' :'Foo rue 42'\n",
    "    },\n",
    "    \n",
    "    'Beth' :{\n",
    "        'phone':'4145',\n",
    "        'addr' :'Bar street 00'\n",
    "    },\n",
    "    \n",
    "    'Cecil':{\n",
    "        'phone':'1563',\n",
    "        'addr' :'Baz avenue 77'\n",
    "    }\n",
    "}\n",
    "\n",
    "# Descriptive labels for output.\n",
    "labels = {\n",
    "    'phone':'phone number',\n",
    "    'addr' :'address'\n",
    "}\n",
    "\n",
    "name = input('Name: ')\n",
    "request = input('Looking for phone number(p) or address(a)? ')\n",
    "\n",
    "if request == 'p' : key = 'phone'\n",
    "if request == 'a' : key = 'addr'\n",
    "\n",
    "#print(\"{}'s {} is {}.\".format(name, labels[key], people[name][key]))\n",
    "print(\"{}'s {} is {}.\".format(name, labels.get(key), people.get(name).get(key)))\n"
   ]
  },
  {
   "cell_type": "markdown",
   "metadata": {},
   "source": [
    "尝试用get查找、用update更新、用setdefault添加新联系人、用pop除名！"
   ]
  },
  {
   "cell_type": "code",
   "execution_count": null,
   "metadata": {},
   "outputs": [],
   "source": [
    "people['Alice'].get('phone')"
   ]
  },
  {
   "cell_type": "code",
   "execution_count": null,
   "metadata": {},
   "outputs": [],
   "source": [
    "people.get('Alice').get('phone')"
   ]
  },
  {
   "cell_type": "markdown",
   "metadata": {},
   "source": [
    "# **循环（Loop）**"
   ]
  },
  {
   "cell_type": "markdown",
   "metadata": {},
   "source": [
    "如果我们想重复执行大量相同的或类似的事情，将代码复制粘贴多行显然不是一个优雅的选择。好在Python提供了两种循环结构：while循环（又称条件循环）和for循环。这两种循环各有特色，而且有时候可以相互代替。"
   ]
  },
  {
   "cell_type": "markdown",
   "metadata": {},
   "source": [
    "**while循环**"
   ]
  },
  {
   "cell_type": "markdown",
   "metadata": {},
   "source": [
    "当条件为真时执行循环，直到条件为假。  \n",
    "```python\n",
    "while <condition>:\n",
    "    <block>\n",
    "```"
   ]
  },
  {
   "cell_type": "markdown",
   "metadata": {},
   "source": [
    "<center>\n",
    "    <img src='while.png' height='50%' width='50%'>\n",
    "</center>"
   ]
  },
  {
   "cell_type": "markdown",
   "metadata": {},
   "source": [
    "> 若block中没有对condition作出修改，那么这将是一个死循环！  \n",
    "> 死循环的作用：监听、GUI的mainloop等。"
   ]
  },
  {
   "cell_type": "code",
   "execution_count": null,
   "metadata": {},
   "outputs": [],
   "source": [
    "x = 0\n",
    "while x <= 10:\n",
    "    print(x**2,end=' ')\n",
    "    x += 1"
   ]
  },
  {
   "cell_type": "markdown",
   "metadata": {},
   "source": [
    "**for循环**"
   ]
  },
  {
   "cell_type": "markdown",
   "metadata": {},
   "source": [
    "使用for循环对一个序列中的所有元素执行你的代码。  \n",
    "```python\n",
    "for <variable> in <sequence>:\n",
    "    <block>\n",
    "```"
   ]
  },
  {
   "cell_type": "markdown",
   "metadata": {},
   "source": [
    "<center>\n",
    "    <img src='for.png' height='50%' width='50%'>\n",
    "</center>"
   ]
  },
  {
   "cell_type": "code",
   "execution_count": null,
   "metadata": {},
   "outputs": [],
   "source": [
    "for x in range(11):\n",
    "    print(x**2,end=' ')"
   ]
  },
  {
   "cell_type": "code",
   "execution_count": null,
   "metadata": {},
   "outputs": [],
   "source": [
    "lovers = ['A','B','C','D','E']\n",
    "for lover in lovers:\n",
    "    print('对{}发射小心心！'.format(lover))"
   ]
  },
  {
   "cell_type": "markdown",
   "metadata": {},
   "source": [
    "**小练习：**计算\n",
    "$$\\sum_{i=0}^{n} \\frac{(-1)^{n-1} x^n}{n}$$\n",
    "n的取值自定，并将其值与 $ln2$ 比较。"
   ]
  },
  {
   "cell_type": "code",
   "execution_count": null,
   "metadata": {},
   "outputs": [],
   "source": []
  },
  {
   "cell_type": "markdown",
   "metadata": {},
   "source": [
    "> 可以发现，n的取值越大，这个式子的值越趋近于 $ln2$ 。实际上，当n趋向于无穷时，这个式子就能精确地表示ln2。这是计算机内部计算超越函数的一种方法，叫做`泰勒展开`。"
   ]
  },
  {
   "cell_type": "markdown",
   "metadata": {},
   "source": [
    "**循环控制语句**"
   ]
  },
  {
   "cell_type": "markdown",
   "metadata": {},
   "source": [
    "语句|作用\n",
    ":-:|:-:\n",
    "break|中止循环体\n",
    "continue|直接执行下一次循环\n",
    "pass|什么也不做，用于占位使结构完整"
   ]
  },
  {
   "cell_type": "code",
   "execution_count": null,
   "metadata": {},
   "outputs": [],
   "source": [
    "while True:\n",
    "    response = input('你到底爱不爱我？ ')\n",
    "    if '爱' in response and not '不' in response:\n",
    "        print('我也爱你！')\n",
    "        break\n",
    "    else:\n",
    "        print('大骗子！')"
   ]
  },
  {
   "cell_type": "markdown",
   "metadata": {},
   "source": [
    "输出1-25的平方，但是遇到3的倍数时跳过，遇到5的倍数时换行："
   ]
  },
  {
   "cell_type": "code",
   "execution_count": null,
   "metadata": {},
   "outputs": [],
   "source": [
    "for x in range(26):\n",
    "    if x%3 == 0:\n",
    "        continue\n",
    "    else:\n",
    "        pass\n",
    "    \n",
    "    print(x**2,end=' ')\n",
    "    \n",
    "    if x%5 == 0:\n",
    "        print()\n",
    "    else:\n",
    "        pass"
   ]
  },
  {
   "cell_type": "markdown",
   "metadata": {},
   "source": [
    "<center>\n",
    "<img src='Python.jpg' height=90% width=90%>\n",
    "</center>"
   ]
  }
 ],
 "metadata": {
  "kernelspec": {
   "display_name": "Python 3",
   "language": "python",
   "name": "python3"
  },
  "language_info": {
   "codemirror_mode": {
    "name": "ipython",
    "version": 3
   },
   "file_extension": ".py",
   "mimetype": "text/x-python",
   "name": "python",
   "nbconvert_exporter": "python",
   "pygments_lexer": "ipython3",
   "version": "3.7.3"
  }
 },
 "nbformat": 4,
 "nbformat_minor": 4
}
